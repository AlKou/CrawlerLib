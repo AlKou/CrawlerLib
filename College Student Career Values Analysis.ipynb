{
 "cells": [
  {
   "cell_type": "code",
   "execution_count": 1,
   "metadata": {},
   "outputs": [],
   "source": [
    "import pandas as pd\n",
    "import numpy as np\n",
    "import matplotlib.pyplot as plt\n",
    "import seaborn as sns; sns.set()\n",
    "import warnings\n",
    "warnings.filterwarnings('ignore')\n",
    "from sklearn.cluster import KMeans"
   ]
  },
  {
   "cell_type": "code",
   "execution_count": 2,
   "metadata": {},
   "outputs": [
    {
     "data": {
      "text/html": [
       "<div>\n",
       "<style scoped>\n",
       "    .dataframe tbody tr th:only-of-type {\n",
       "        vertical-align: middle;\n",
       "    }\n",
       "\n",
       "    .dataframe tbody tr th {\n",
       "        vertical-align: top;\n",
       "    }\n",
       "\n",
       "    .dataframe thead th {\n",
       "        text-align: right;\n",
       "    }\n",
       "</style>\n",
       "<table border=\"1\" class=\"dataframe\">\n",
       "  <thead>\n",
       "    <tr style=\"text-align: right;\">\n",
       "      <th></th>\n",
       "      <th>1.你的性别：</th>\n",
       "      <th>2.你就读的学校的全称是：</th>\n",
       "      <th>3.你的在读学历：</th>\n",
       "      <th>4.你的年级</th>\n",
       "      <th>5.你认为学历对你的就业影响有多大？</th>\n",
       "      <th>6.相比就业，你多大程度上更愿意进行升本、考研等继续教育？</th>\n",
       "      <th>7.你认为大学专业学习对你的就业影响有多大？</th>\n",
       "      <th>8.你认为大学非本专业学习或跨专业、多专业的学习对你的就业影响有多大？</th>\n",
       "      <th>9.你认为大学期间的种类实践活动及技术技能培训、职业培训等会多大程度上影响你的择业就业？</th>\n",
       "      <th>10.你认为相较于知识和技能，在大学中培养的思维方式、处事方法等会对你的择业就业有多大影响？</th>\n",
       "      <th>...</th>\n",
       "      <th>21.如果第一份工作不开心或不顺心，你多大可能会选择直接离职？</th>\n",
       "      <th>22.你对频繁离职或跳槽的接受度有多高？</th>\n",
       "      <th>23.父母、老师等长辈会对你的就业产生多大影响？</th>\n",
       "      <th>24.朋友、同学等会对你的就业产生多大影响？</th>\n",
       "      <th>25.你的男（或女）朋友会对你的就业有多大影响？</th>\n",
       "      <th>26.你有多大信心独立自主而不借助于长辈、关系等找到自己满意的职业？</th>\n",
       "      <th>27.你对自己关于目前就业形势的了解与判断有多大信心？</th>\n",
       "      <th>28.相比传统行业和传统职业 ，你有多倾向于选择新兴行业和新兴职业？</th>\n",
       "      <th>29.你对自己的职业生涯规划有多清晰？</th>\n",
       "      <th>30.相比择业就业，你有多大倾向于自主创业？</th>\n",
       "    </tr>\n",
       "  </thead>\n",
       "  <tbody>\n",
       "    <tr>\n",
       "      <th>0</th>\n",
       "      <td>A.男</td>\n",
       "      <td>四川电影电视学院</td>\n",
       "      <td>B.本科</td>\n",
       "      <td>D.大四</td>\n",
       "      <td>7</td>\n",
       "      <td>7</td>\n",
       "      <td>5</td>\n",
       "      <td>7</td>\n",
       "      <td>7</td>\n",
       "      <td>8</td>\n",
       "      <td>...</td>\n",
       "      <td>7</td>\n",
       "      <td>4</td>\n",
       "      <td>7</td>\n",
       "      <td>6</td>\n",
       "      <td>5.0</td>\n",
       "      <td>8</td>\n",
       "      <td>6</td>\n",
       "      <td>10</td>\n",
       "      <td>6</td>\n",
       "      <td>7</td>\n",
       "    </tr>\n",
       "    <tr>\n",
       "      <th>1</th>\n",
       "      <td>A.男</td>\n",
       "      <td>四川电影电视学院</td>\n",
       "      <td>B.本科</td>\n",
       "      <td>C.大三</td>\n",
       "      <td>9</td>\n",
       "      <td>8</td>\n",
       "      <td>7</td>\n",
       "      <td>4</td>\n",
       "      <td>8</td>\n",
       "      <td>7</td>\n",
       "      <td>...</td>\n",
       "      <td>4</td>\n",
       "      <td>6</td>\n",
       "      <td>4</td>\n",
       "      <td>1</td>\n",
       "      <td>5.0</td>\n",
       "      <td>5</td>\n",
       "      <td>4</td>\n",
       "      <td>6</td>\n",
       "      <td>3</td>\n",
       "      <td>1</td>\n",
       "    </tr>\n",
       "    <tr>\n",
       "      <th>2</th>\n",
       "      <td>B.女</td>\n",
       "      <td>四川电影电视学院</td>\n",
       "      <td>B.本科</td>\n",
       "      <td>D.大四</td>\n",
       "      <td>9</td>\n",
       "      <td>10</td>\n",
       "      <td>9</td>\n",
       "      <td>9</td>\n",
       "      <td>9</td>\n",
       "      <td>8</td>\n",
       "      <td>...</td>\n",
       "      <td>9</td>\n",
       "      <td>4</td>\n",
       "      <td>6</td>\n",
       "      <td>6</td>\n",
       "      <td>5.0</td>\n",
       "      <td>7</td>\n",
       "      <td>8</td>\n",
       "      <td>8</td>\n",
       "      <td>7</td>\n",
       "      <td>7</td>\n",
       "    </tr>\n",
       "  </tbody>\n",
       "</table>\n",
       "<p>3 rows × 30 columns</p>\n",
       "</div>"
      ],
      "text/plain": [
       "  1.你的性别： 2.你就读的学校的全称是： 3.你的在读学历： 4.你的年级  5.你认为学历对你的就业影响有多大？  \\\n",
       "0     A.男      四川电影电视学院      B.本科   D.大四                   7   \n",
       "1     A.男      四川电影电视学院      B.本科   C.大三                   9   \n",
       "2     B.女      四川电影电视学院      B.本科   D.大四                   9   \n",
       "\n",
       "   6.相比就业，你多大程度上更愿意进行升本、考研等继续教育？  7.你认为大学专业学习对你的就业影响有多大？  \\\n",
       "0                              7                       5   \n",
       "1                              8                       7   \n",
       "2                             10                       9   \n",
       "\n",
       "   8.你认为大学非本专业学习或跨专业、多专业的学习对你的就业影响有多大？  \\\n",
       "0                                    7   \n",
       "1                                    4   \n",
       "2                                    9   \n",
       "\n",
       "   9.你认为大学期间的种类实践活动及技术技能培训、职业培训等会多大程度上影响你的择业就业？  \\\n",
       "0                                             7   \n",
       "1                                             8   \n",
       "2                                             9   \n",
       "\n",
       "   10.你认为相较于知识和技能，在大学中培养的思维方式、处事方法等会对你的择业就业有多大影响？           ...            \\\n",
       "0                                               8           ...             \n",
       "1                                               7           ...             \n",
       "2                                               8           ...             \n",
       "\n",
       "   21.如果第一份工作不开心或不顺心，你多大可能会选择直接离职？  22.你对频繁离职或跳槽的接受度有多高？  \\\n",
       "0                                7                     4   \n",
       "1                                4                     6   \n",
       "2                                9                     4   \n",
       "\n",
       "   23.父母、老师等长辈会对你的就业产生多大影响？  24.朋友、同学等会对你的就业产生多大影响？  25.你的男（或女）朋友会对你的就业有多大影响？  \\\n",
       "0                         7                       6                       5.0   \n",
       "1                         4                       1                       5.0   \n",
       "2                         6                       6                       5.0   \n",
       "\n",
       "   26.你有多大信心独立自主而不借助于长辈、关系等找到自己满意的职业？  27.你对自己关于目前就业形势的了解与判断有多大信心？  \\\n",
       "0                                   8                            6   \n",
       "1                                   5                            4   \n",
       "2                                   7                            8   \n",
       "\n",
       "   28.相比传统行业和传统职业 ，你有多倾向于选择新兴行业和新兴职业？  29.你对自己的职业生涯规划有多清晰？  \\\n",
       "0                                  10                    6   \n",
       "1                                   6                    3   \n",
       "2                                   8                    7   \n",
       "\n",
       "   30.相比择业就业，你有多大倾向于自主创业？  \n",
       "0                       7  \n",
       "1                       1  \n",
       "2                       7  \n",
       "\n",
       "[3 rows x 30 columns]"
      ]
     },
     "execution_count": 2,
     "metadata": {},
     "output_type": "execute_result"
    }
   ],
   "source": [
    "# Read data from source file.\n",
    "df = pd.read_csv('cscv_cleaned.csv')\n",
    "df.head(3)"
   ]
  },
  {
   "cell_type": "code",
   "execution_count": 3,
   "metadata": {},
   "outputs": [
    {
     "name": "stdout",
     "output_type": "stream",
     "text": [
      "<class 'pandas.core.frame.DataFrame'>\n",
      "RangeIndex: 1309 entries, 0 to 1308\n",
      "Data columns (total 30 columns):\n",
      "1.你的性别：                                           1309 non-null object\n",
      "2.你就读的学校的全称是：                                     1309 non-null object\n",
      "3.你的在读学历：                                         1309 non-null object\n",
      "4.你的年级                                            1309 non-null object\n",
      "5.你认为学历对你的就业影响有多大？                                1309 non-null int64\n",
      "6.相比就业，你多大程度上更愿意进行升本、考研等继续教育？                     1309 non-null int64\n",
      "7.你认为大学专业学习对你的就业影响有多大？                            1309 non-null int64\n",
      "8.你认为大学非本专业学习或跨专业、多专业的学习对你的就业影响有多大？               1309 non-null int64\n",
      "9.你认为大学期间的种类实践活动及技术技能培训、职业培训等会多大程度上影响你的择业就业？      1309 non-null int64\n",
      "10.你认为相较于知识和技能，在大学中培养的思维方式、处事方法等会对你的择业就业有多大影响？    1309 non-null int64\n",
      "11.不考虑专业，你多大程度上会从自己的兴趣爱好或梦想出发择业就业？                1309 non-null int64\n",
      "12.你多大程度上愿意在学校所在地就业？                              1309 non-null int64\n",
      "13.你多大程度上愿意回到家乡所在地就业？                             1309 non-null int64\n",
      "14.你多大程度上倾向于在一二线大城市就业？                            1309 non-null int64\n",
      "15.就业时你多大程度上首先考虑薪资福利？                             1309 non-null int64\n",
      "16.对于在国企、政府及事业单位，你在择业时倾向于选择的意愿有多大？                1309 non-null int64\n",
      "17.对于民营及私营企业单位，你在择业时倾向于选择的意愿有多大？                  1309 non-null int64\n",
      "18.对于外商独资及合资企事业单位，你在择业时倾向于选择的意愿有多大？               1309 non-null int64\n",
      "19.就业时你多大程度上首先考虑自我提升与长期发展？                        1309 non-null int64\n",
      "20.对生活与工作的平衡的期望会对你的就业产生多大影响？                      1309 non-null int64\n",
      "21.如果第一份工作不开心或不顺心，你多大可能会选择直接离职？                   1309 non-null int64\n",
      "22.你对频繁离职或跳槽的接受度有多高？                              1309 non-null int64\n",
      "23.父母、老师等长辈会对你的就业产生多大影响？                          1309 non-null int64\n",
      "24.朋友、同学等会对你的就业产生多大影响？                            1309 non-null int64\n",
      "25.你的男（或女）朋友会对你的就业有多大影响？                          1309 non-null float64\n",
      "26.你有多大信心独立自主而不借助于长辈、关系等找到自己满意的职业？                1309 non-null int64\n",
      "27.你对自己关于目前就业形势的了解与判断有多大信心？                       1309 non-null int64\n",
      "28.相比传统行业和传统职业 ，你有多倾向于选择新兴行业和新兴职业？                1309 non-null int64\n",
      "29.你对自己的职业生涯规划有多清晰？                               1309 non-null int64\n",
      "30.相比择业就业，你有多大倾向于自主创业？                            1309 non-null int64\n",
      "dtypes: float64(1), int64(25), object(4)\n",
      "memory usage: 306.9+ KB\n"
     ]
    }
   ],
   "source": [
    "# Overview\n",
    "df.info()"
   ]
  },
  {
   "cell_type": "markdown",
   "metadata": {},
   "source": [
    "# Drop irrelative columns\n",
    "df.drop(['编号','开始答题时间','结束答题时间','QQ','微信标识','自定义字段','Unnamed: 36'], axis=1, inplace=True)\n",
    "df.info()"
   ]
  },
  {
   "cell_type": "code",
   "execution_count": 4,
   "metadata": {},
   "outputs": [
    {
     "name": "stdout",
     "output_type": "stream",
     "text": [
      "<class 'pandas.core.frame.DataFrame'>\n",
      "RangeIndex: 1222 entries, 0 to 1221\n",
      "Data columns (total 30 columns):\n",
      "q1     1222 non-null object\n",
      "q2     1222 non-null object\n",
      "q3     1222 non-null object\n",
      "q4     1222 non-null object\n",
      "q5     1222 non-null int64\n",
      "q6     1222 non-null int64\n",
      "q7     1222 non-null int64\n",
      "q8     1222 non-null int64\n",
      "q9     1222 non-null int64\n",
      "q10    1222 non-null int64\n",
      "q11    1222 non-null int64\n",
      "q12    1222 non-null int64\n",
      "q13    1222 non-null int64\n",
      "q14    1222 non-null int64\n",
      "q15    1222 non-null int64\n",
      "q16    1222 non-null int64\n",
      "q17    1222 non-null int64\n",
      "q18    1222 non-null int64\n",
      "q19    1222 non-null int64\n",
      "q20    1222 non-null int64\n",
      "q21    1222 non-null int64\n",
      "q22    1222 non-null int64\n",
      "q23    1222 non-null int64\n",
      "q24    1222 non-null int64\n",
      "q25    1222 non-null float64\n",
      "q26    1222 non-null int64\n",
      "q27    1222 non-null int64\n",
      "q28    1222 non-null int64\n",
      "q29    1222 non-null int64\n",
      "q30    1222 non-null int64\n",
      "dtypes: float64(1), int64(25), object(4)\n",
      "memory usage: 286.5+ KB\n"
     ]
    }
   ],
   "source": [
    "# Extract survey questions and map them to string code into the data\n",
    "allQuestions = df.columns\n",
    "df.columns = ['q' + str(i) for i in range(1,31)]\n",
    "df = df[df.iloc[:,4:].min(axis=1) < 7]\n",
    "df = df[df.max(axis=1) - df.min(axis=1) > 2]\n",
    "df.reset_index(inplace=True, drop=True)\n",
    "to_drop = []\n",
    "for i in range(len(df)):\n",
    "    if len(set(df.iloc[:, 4:].values[i])) < 4:\n",
    "        to_drop.append(i)\n",
    "df.drop(to_drop, inplace=True)\n",
    "df.reset_index(inplace=True, drop=True)\n",
    "df.info()"
   ]
  },
  {
   "cell_type": "markdown",
   "metadata": {},
   "source": [
    "# Question 2 allows free typing. Probably all kinds of inputs woulc appear. So take a look first.\n",
    "df.q2.value_counts()"
   ]
  },
  {
   "cell_type": "markdown",
   "metadata": {},
   "source": [
    "# Organize question 2 and see the value counts.\n",
    "for i in range(len(df)):\n",
    "    if '山西' in df.q2[i]:\n",
    "        df.q2[i] = '山西水利职业技术学院'\n",
    "    elif '人文' in df.q2[i]:\n",
    "        df.q2[i] = '东北师范大学人文学院'\n",
    "    elif '商' in df.q2[i]:\n",
    "        df.q2[i] = '四川工商学院'\n",
    "    else:\n",
    "        df.q2[i] = '四川电影电视学院'\n",
    "df.q2.value_counts()"
   ]
  },
  {
   "cell_type": "markdown",
   "metadata": {},
   "source": [
    "# Remove invalid samples where all questions got the same value, or the values are all below 6 or all above 5. \n",
    "df = df[df.max(axis=1) - df.min(axis=1) > 2]\n",
    "df = df[df.iloc[:,4:].max(axis=1) > 5]\n",
    "df = df[df.iloc[:,4:].min(axis=1) < 7]\n",
    "df.reset_index(inplace=True, drop=True)\n",
    "df.info()"
   ]
  },
  {
   "cell_type": "markdown",
   "metadata": {},
   "source": [
    "# Question 25 got missing values. Take a look at its mean and mode for filling.\n",
    "df.q25.mean(), df.q25.mode()"
   ]
  },
  {
   "cell_type": "markdown",
   "metadata": {},
   "source": [
    "# Fill the missing values of q25 with mode 5.\n",
    "df.q25 = df.q25.fillna(5, axis=0)\n",
    "df.info()"
   ]
  },
  {
   "cell_type": "markdown",
   "metadata": {},
   "source": [
    "# Restore columns with allQuestions and save the source to file as cleaned backup.\n",
    "df1 = df.copy()\n",
    "df1.columns = allQuestions\n",
    "#df1.to_csv('cscv_cleaned.csv', index=False)"
   ]
  },
  {
   "cell_type": "code",
   "execution_count": 5,
   "metadata": {},
   "outputs": [
    {
     "data": {
      "text/plain": [
       "B.女    900\n",
       "A.男    322\n",
       "Name: q1, dtype: int64"
      ]
     },
     "execution_count": 5,
     "metadata": {},
     "output_type": "execute_result"
    }
   ],
   "source": [
    "# Now start to get an overview of the questions. \n",
    "df.q1.value_counts()"
   ]
  },
  {
   "cell_type": "code",
   "execution_count": 6,
   "metadata": {},
   "outputs": [
    {
     "data": {
      "text/plain": [
       "B.本科    629\n",
       "A.专科    593\n",
       "Name: q3, dtype: int64"
      ]
     },
     "execution_count": 6,
     "metadata": {},
     "output_type": "execute_result"
    }
   ],
   "source": [
    "# And the education level\n",
    "df.q3.value_counts()"
   ]
  },
  {
   "cell_type": "code",
   "execution_count": 7,
   "metadata": {},
   "outputs": [
    {
     "data": {
      "text/plain": [
       "B.大二    577\n",
       "C.大三    352\n",
       "A.大一    274\n",
       "D.大四     19\n",
       "Name: q4, dtype: int64"
      ]
     },
     "execution_count": 7,
     "metadata": {},
     "output_type": "execute_result"
    }
   ],
   "source": [
    "# And college years.\n",
    "df.q4.value_counts()"
   ]
  },
  {
   "cell_type": "code",
   "execution_count": 8,
   "metadata": {},
   "outputs": [
    {
     "data": {
      "text/html": [
       "<div>\n",
       "<style scoped>\n",
       "    .dataframe tbody tr th:only-of-type {\n",
       "        vertical-align: middle;\n",
       "    }\n",
       "\n",
       "    .dataframe tbody tr th {\n",
       "        vertical-align: top;\n",
       "    }\n",
       "\n",
       "    .dataframe thead th {\n",
       "        text-align: right;\n",
       "    }\n",
       "</style>\n",
       "<table border=\"1\" class=\"dataframe\">\n",
       "  <thead>\n",
       "    <tr style=\"text-align: right;\">\n",
       "      <th>q4</th>\n",
       "      <th>A.大一</th>\n",
       "      <th>B.大二</th>\n",
       "      <th>C.大三</th>\n",
       "      <th>D.大四</th>\n",
       "    </tr>\n",
       "    <tr>\n",
       "      <th>q3</th>\n",
       "      <th></th>\n",
       "      <th></th>\n",
       "      <th></th>\n",
       "      <th></th>\n",
       "    </tr>\n",
       "  </thead>\n",
       "  <tbody>\n",
       "    <tr>\n",
       "      <th>A.专科</th>\n",
       "      <td>69</td>\n",
       "      <td>514</td>\n",
       "      <td>9</td>\n",
       "      <td>1</td>\n",
       "    </tr>\n",
       "    <tr>\n",
       "      <th>B.本科</th>\n",
       "      <td>205</td>\n",
       "      <td>63</td>\n",
       "      <td>343</td>\n",
       "      <td>18</td>\n",
       "    </tr>\n",
       "  </tbody>\n",
       "</table>\n",
       "</div>"
      ],
      "text/plain": [
       "q4    A.大一  B.大二  C.大三  D.大四\n",
       "q3                          \n",
       "A.专科    69   514     9     1\n",
       "B.本科   205    63   343    18"
      ]
     },
     "execution_count": 8,
     "metadata": {},
     "output_type": "execute_result"
    }
   ],
   "source": [
    "pd.crosstab(index=df.q3, columns=df.q4)"
   ]
  },
  {
   "cell_type": "code",
   "execution_count": 9,
   "metadata": {},
   "outputs": [
    {
     "data": {
      "text/html": [
       "<div>\n",
       "<style scoped>\n",
       "    .dataframe tbody tr th:only-of-type {\n",
       "        vertical-align: middle;\n",
       "    }\n",
       "\n",
       "    .dataframe tbody tr th {\n",
       "        vertical-align: top;\n",
       "    }\n",
       "\n",
       "    .dataframe thead th {\n",
       "        text-align: right;\n",
       "    }\n",
       "</style>\n",
       "<table border=\"1\" class=\"dataframe\">\n",
       "  <thead>\n",
       "    <tr style=\"text-align: right;\">\n",
       "      <th>q1</th>\n",
       "      <th>A.男</th>\n",
       "      <th>B.女</th>\n",
       "    </tr>\n",
       "    <tr>\n",
       "      <th>q3</th>\n",
       "      <th></th>\n",
       "      <th></th>\n",
       "    </tr>\n",
       "  </thead>\n",
       "  <tbody>\n",
       "    <tr>\n",
       "      <th>A.专科</th>\n",
       "      <td>172</td>\n",
       "      <td>421</td>\n",
       "    </tr>\n",
       "    <tr>\n",
       "      <th>B.本科</th>\n",
       "      <td>150</td>\n",
       "      <td>479</td>\n",
       "    </tr>\n",
       "  </tbody>\n",
       "</table>\n",
       "</div>"
      ],
      "text/plain": [
       "q1    A.男  B.女\n",
       "q3            \n",
       "A.专科  172  421\n",
       "B.本科  150  479"
      ]
     },
     "execution_count": 9,
     "metadata": {},
     "output_type": "execute_result"
    }
   ],
   "source": [
    "pd.crosstab(index=df.q3, columns=df.q1)"
   ]
  },
  {
   "cell_type": "code",
   "execution_count": 10,
   "metadata": {},
   "outputs": [
    {
     "data": {
      "text/html": [
       "<div>\n",
       "<style scoped>\n",
       "    .dataframe tbody tr th:only-of-type {\n",
       "        vertical-align: middle;\n",
       "    }\n",
       "\n",
       "    .dataframe tbody tr th {\n",
       "        vertical-align: top;\n",
       "    }\n",
       "\n",
       "    .dataframe thead th {\n",
       "        text-align: right;\n",
       "    }\n",
       "</style>\n",
       "<table border=\"1\" class=\"dataframe\">\n",
       "  <thead>\n",
       "    <tr style=\"text-align: right;\">\n",
       "      <th>q2</th>\n",
       "      <th>东北师范大学人文学院</th>\n",
       "      <th>四川工商学院</th>\n",
       "      <th>四川电影电视学院</th>\n",
       "      <th>山西水利职业技术学院</th>\n",
       "    </tr>\n",
       "    <tr>\n",
       "      <th>q3</th>\n",
       "      <th></th>\n",
       "      <th></th>\n",
       "      <th></th>\n",
       "      <th></th>\n",
       "    </tr>\n",
       "  </thead>\n",
       "  <tbody>\n",
       "    <tr>\n",
       "      <th>A.专科</th>\n",
       "      <td>0</td>\n",
       "      <td>71</td>\n",
       "      <td>521</td>\n",
       "      <td>1</td>\n",
       "    </tr>\n",
       "    <tr>\n",
       "      <th>B.本科</th>\n",
       "      <td>69</td>\n",
       "      <td>199</td>\n",
       "      <td>361</td>\n",
       "      <td>0</td>\n",
       "    </tr>\n",
       "  </tbody>\n",
       "</table>\n",
       "</div>"
      ],
      "text/plain": [
       "q2    东北师范大学人文学院  四川工商学院  四川电影电视学院  山西水利职业技术学院\n",
       "q3                                            \n",
       "A.专科           0      71       521           1\n",
       "B.本科          69     199       361           0"
      ]
     },
     "execution_count": 10,
     "metadata": {},
     "output_type": "execute_result"
    }
   ],
   "source": [
    "pd.crosstab(index=df.q3, columns=df.q2)"
   ]
  },
  {
   "cell_type": "code",
   "execution_count": 11,
   "metadata": {},
   "outputs": [
    {
     "data": {
      "text/html": [
       "<div>\n",
       "<style scoped>\n",
       "    .dataframe tbody tr th:only-of-type {\n",
       "        vertical-align: middle;\n",
       "    }\n",
       "\n",
       "    .dataframe tbody tr th {\n",
       "        vertical-align: top;\n",
       "    }\n",
       "\n",
       "    .dataframe thead th {\n",
       "        text-align: right;\n",
       "    }\n",
       "</style>\n",
       "<table border=\"1\" class=\"dataframe\">\n",
       "  <thead>\n",
       "    <tr style=\"text-align: right;\">\n",
       "      <th>q2</th>\n",
       "      <th>东北师范大学人文学院</th>\n",
       "      <th>四川工商学院</th>\n",
       "      <th>四川电影电视学院</th>\n",
       "      <th>山西水利职业技术学院</th>\n",
       "    </tr>\n",
       "    <tr>\n",
       "      <th>q1</th>\n",
       "      <th></th>\n",
       "      <th></th>\n",
       "      <th></th>\n",
       "      <th></th>\n",
       "    </tr>\n",
       "  </thead>\n",
       "  <tbody>\n",
       "    <tr>\n",
       "      <th>A.男</th>\n",
       "      <td>5</td>\n",
       "      <td>53</td>\n",
       "      <td>264</td>\n",
       "      <td>0</td>\n",
       "    </tr>\n",
       "    <tr>\n",
       "      <th>B.女</th>\n",
       "      <td>64</td>\n",
       "      <td>217</td>\n",
       "      <td>618</td>\n",
       "      <td>1</td>\n",
       "    </tr>\n",
       "  </tbody>\n",
       "</table>\n",
       "</div>"
      ],
      "text/plain": [
       "q2   东北师范大学人文学院  四川工商学院  四川电影电视学院  山西水利职业技术学院\n",
       "q1                                           \n",
       "A.男           5      53       264           0\n",
       "B.女          64     217       618           1"
      ]
     },
     "execution_count": 11,
     "metadata": {},
     "output_type": "execute_result"
    }
   ],
   "source": [
    "pd.crosstab(index=df.q1, columns=df.q2)"
   ]
  },
  {
   "cell_type": "code",
   "execution_count": 12,
   "metadata": {},
   "outputs": [
    {
     "data": {
      "text/html": [
       "<div>\n",
       "<style scoped>\n",
       "    .dataframe tbody tr th:only-of-type {\n",
       "        vertical-align: middle;\n",
       "    }\n",
       "\n",
       "    .dataframe tbody tr th {\n",
       "        vertical-align: top;\n",
       "    }\n",
       "\n",
       "    .dataframe thead th {\n",
       "        text-align: right;\n",
       "    }\n",
       "</style>\n",
       "<table border=\"1\" class=\"dataframe\">\n",
       "  <thead>\n",
       "    <tr style=\"text-align: right;\">\n",
       "      <th>q4</th>\n",
       "      <th>A.大一</th>\n",
       "      <th>B.大二</th>\n",
       "      <th>C.大三</th>\n",
       "      <th>D.大四</th>\n",
       "    </tr>\n",
       "    <tr>\n",
       "      <th>q2</th>\n",
       "      <th></th>\n",
       "      <th></th>\n",
       "      <th></th>\n",
       "      <th></th>\n",
       "    </tr>\n",
       "  </thead>\n",
       "  <tbody>\n",
       "    <tr>\n",
       "      <th>东北师范大学人文学院</th>\n",
       "      <td>18</td>\n",
       "      <td>41</td>\n",
       "      <td>9</td>\n",
       "      <td>1</td>\n",
       "    </tr>\n",
       "    <tr>\n",
       "      <th>四川工商学院</th>\n",
       "      <td>253</td>\n",
       "      <td>6</td>\n",
       "      <td>9</td>\n",
       "      <td>2</td>\n",
       "    </tr>\n",
       "    <tr>\n",
       "      <th>四川电影电视学院</th>\n",
       "      <td>3</td>\n",
       "      <td>530</td>\n",
       "      <td>333</td>\n",
       "      <td>16</td>\n",
       "    </tr>\n",
       "    <tr>\n",
       "      <th>山西水利职业技术学院</th>\n",
       "      <td>0</td>\n",
       "      <td>0</td>\n",
       "      <td>1</td>\n",
       "      <td>0</td>\n",
       "    </tr>\n",
       "  </tbody>\n",
       "</table>\n",
       "</div>"
      ],
      "text/plain": [
       "q4          A.大一  B.大二  C.大三  D.大四\n",
       "q2                                \n",
       "东北师范大学人文学院    18    41     9     1\n",
       "四川工商学院       253     6     9     2\n",
       "四川电影电视学院       3   530   333    16\n",
       "山西水利职业技术学院     0     0     1     0"
      ]
     },
     "execution_count": 12,
     "metadata": {},
     "output_type": "execute_result"
    }
   ],
   "source": [
    "pd.crosstab(index=df.q2, columns=df.q4)"
   ]
  },
  {
   "cell_type": "code",
   "execution_count": 13,
   "metadata": {},
   "outputs": [
    {
     "data": {
      "image/png": "[encoded data removed]",
      "text/plain": [
       "<matplotlib.figure.Figure at 0x1170cb080>"
      ]
     },
     "metadata": {},
     "output_type": "display_data"
    }
   ],
   "source": [
    "plt.figure(figsize=(16,10))\n",
    "sns.heatmap(df.corr(), cmap='Oranges')\n",
    "plt.title('Survy Questions Heatmap')\n",
    "plt.show()"
   ]
  },
  {
   "cell_type": "code",
   "execution_count": 14,
   "metadata": {},
   "outputs": [
    {
     "data": {
      "text/html": [
       "<div>\n",
       "<style scoped>\n",
       "    .dataframe tbody tr th:only-of-type {\n",
       "        vertical-align: middle;\n",
       "    }\n",
       "\n",
       "    .dataframe tbody tr th {\n",
       "        vertical-align: top;\n",
       "    }\n",
       "\n",
       "    .dataframe thead th {\n",
       "        text-align: right;\n",
       "    }\n",
       "</style>\n",
       "<table border=\"1\" class=\"dataframe\">\n",
       "  <thead>\n",
       "    <tr style=\"text-align: right;\">\n",
       "      <th></th>\n",
       "      <th>question1</th>\n",
       "      <th>question2</th>\n",
       "      <th>CorrValue</th>\n",
       "    </tr>\n",
       "  </thead>\n",
       "  <tbody>\n",
       "    <tr>\n",
       "      <th>0</th>\n",
       "      <td>q5</td>\n",
       "      <td>q6</td>\n",
       "      <td>0.304915</td>\n",
       "    </tr>\n",
       "    <tr>\n",
       "      <th>1</th>\n",
       "      <td>q5</td>\n",
       "      <td>q7</td>\n",
       "      <td>0.341523</td>\n",
       "    </tr>\n",
       "    <tr>\n",
       "      <th>2</th>\n",
       "      <td>q5</td>\n",
       "      <td>q8</td>\n",
       "      <td>0.278412</td>\n",
       "    </tr>\n",
       "    <tr>\n",
       "      <th>3</th>\n",
       "      <td>q5</td>\n",
       "      <td>q9</td>\n",
       "      <td>0.305720</td>\n",
       "    </tr>\n",
       "    <tr>\n",
       "      <th>4</th>\n",
       "      <td>q5</td>\n",
       "      <td>q10</td>\n",
       "      <td>0.265939</td>\n",
       "    </tr>\n",
       "  </tbody>\n",
       "</table>\n",
       "</div>"
      ],
      "text/plain": [
       "  question1 question2  CorrValue\n",
       "0        q5        q6   0.304915\n",
       "1        q5        q7   0.341523\n",
       "2        q5        q8   0.278412\n",
       "3        q5        q9   0.305720\n",
       "4        q5       q10   0.265939"
      ]
     },
     "execution_count": 14,
     "metadata": {},
     "output_type": "execute_result"
    }
   ],
   "source": [
    "# Delve into the correlations. Firstly reorganize the correlation data.\n",
    "dfcorr = df.corr().unstack()\n",
    "dfcorr.drop_duplicates(inplace=True) # Original matrix is symetric, so need to drop the duplicates.\n",
    "dfcorr = dfcorr[dfcorr != 1]         # And drop the self-related items.\n",
    "dfcorr = dfcorr.reset_index()        # Reset index.\n",
    "dfcorr.columns = ['question1', 'question2', 'CorrValue'] # Rename columns\n",
    "dfcorr.head()"
   ]
  },
  {
   "cell_type": "code",
   "execution_count": 15,
   "metadata": {},
   "outputs": [
    {
     "data": {
      "text/html": [
       "<div>\n",
       "<style scoped>\n",
       "    .dataframe tbody tr th:only-of-type {\n",
       "        vertical-align: middle;\n",
       "    }\n",
       "\n",
       "    .dataframe tbody tr th {\n",
       "        vertical-align: top;\n",
       "    }\n",
       "\n",
       "    .dataframe thead th {\n",
       "        text-align: right;\n",
       "    }\n",
       "</style>\n",
       "<table border=\"1\" class=\"dataframe\">\n",
       "  <thead>\n",
       "    <tr style=\"text-align: right;\">\n",
       "      <th></th>\n",
       "      <th>question1</th>\n",
       "      <th>question2</th>\n",
       "      <th>CorrValue</th>\n",
       "    </tr>\n",
       "  </thead>\n",
       "  <tbody>\n",
       "    <tr>\n",
       "      <th>94</th>\n",
       "      <td>q9</td>\n",
       "      <td>q10</td>\n",
       "      <td>0.513857</td>\n",
       "    </tr>\n",
       "    <tr>\n",
       "      <th>234</th>\n",
       "      <td>q17</td>\n",
       "      <td>q18</td>\n",
       "      <td>0.577588</td>\n",
       "    </tr>\n",
       "    <tr>\n",
       "      <th>259</th>\n",
       "      <td>q19</td>\n",
       "      <td>q20</td>\n",
       "      <td>0.519533</td>\n",
       "    </tr>\n",
       "    <tr>\n",
       "      <th>297</th>\n",
       "      <td>q23</td>\n",
       "      <td>q24</td>\n",
       "      <td>0.518035</td>\n",
       "    </tr>\n",
       "    <tr>\n",
       "      <th>315</th>\n",
       "      <td>q26</td>\n",
       "      <td>q27</td>\n",
       "      <td>0.554476</td>\n",
       "    </tr>\n",
       "    <tr>\n",
       "      <th>320</th>\n",
       "      <td>q27</td>\n",
       "      <td>q29</td>\n",
       "      <td>0.552985</td>\n",
       "    </tr>\n",
       "  </tbody>\n",
       "</table>\n",
       "</div>"
      ],
      "text/plain": [
       "    question1 question2  CorrValue\n",
       "94         q9       q10   0.513857\n",
       "234       q17       q18   0.577588\n",
       "259       q19       q20   0.519533\n",
       "297       q23       q24   0.518035\n",
       "315       q26       q27   0.554476\n",
       "320       q27       q29   0.552985"
      ]
     },
     "execution_count": 15,
     "metadata": {},
     "output_type": "execute_result"
    }
   ],
   "source": [
    "# See if any strong correlation exists between any two of the features.\n",
    "dfcorr[dfcorr.CorrValue > 0.5]"
   ]
  },
  {
   "cell_type": "code",
   "execution_count": 16,
   "metadata": {},
   "outputs": [
    {
     "data": {
      "text/html": [
       "<div>\n",
       "<style scoped>\n",
       "    .dataframe tbody tr th:only-of-type {\n",
       "        vertical-align: middle;\n",
       "    }\n",
       "\n",
       "    .dataframe tbody tr th {\n",
       "        vertical-align: top;\n",
       "    }\n",
       "\n",
       "    .dataframe thead th {\n",
       "        text-align: right;\n",
       "    }\n",
       "</style>\n",
       "<table border=\"1\" class=\"dataframe\">\n",
       "  <thead>\n",
       "    <tr style=\"text-align: right;\">\n",
       "      <th></th>\n",
       "      <th>question1</th>\n",
       "      <th>question2</th>\n",
       "      <th>CorrValue</th>\n",
       "    </tr>\n",
       "  </thead>\n",
       "  <tbody>\n",
       "    <tr>\n",
       "      <th>0</th>\n",
       "      <td>q5</td>\n",
       "      <td>q6</td>\n",
       "      <td>0.304915</td>\n",
       "    </tr>\n",
       "    <tr>\n",
       "      <th>1</th>\n",
       "      <td>q5</td>\n",
       "      <td>q7</td>\n",
       "      <td>0.341523</td>\n",
       "    </tr>\n",
       "    <tr>\n",
       "      <th>3</th>\n",
       "      <td>q5</td>\n",
       "      <td>q9</td>\n",
       "      <td>0.305720</td>\n",
       "    </tr>\n",
       "    <tr>\n",
       "      <th>49</th>\n",
       "      <td>q7</td>\n",
       "      <td>q8</td>\n",
       "      <td>0.313854</td>\n",
       "    </tr>\n",
       "    <tr>\n",
       "      <th>50</th>\n",
       "      <td>q7</td>\n",
       "      <td>q9</td>\n",
       "      <td>0.357293</td>\n",
       "    </tr>\n",
       "    <tr>\n",
       "      <th>51</th>\n",
       "      <td>q7</td>\n",
       "      <td>q10</td>\n",
       "      <td>0.348597</td>\n",
       "    </tr>\n",
       "    <tr>\n",
       "      <th>72</th>\n",
       "      <td>q8</td>\n",
       "      <td>q9</td>\n",
       "      <td>0.376264</td>\n",
       "    </tr>\n",
       "    <tr>\n",
       "      <th>73</th>\n",
       "      <td>q8</td>\n",
       "      <td>q10</td>\n",
       "      <td>0.303224</td>\n",
       "    </tr>\n",
       "    <tr>\n",
       "      <th>101</th>\n",
       "      <td>q9</td>\n",
       "      <td>q17</td>\n",
       "      <td>0.301396</td>\n",
       "    </tr>\n",
       "    <tr>\n",
       "      <th>123</th>\n",
       "      <td>q10</td>\n",
       "      <td>q19</td>\n",
       "      <td>0.358217</td>\n",
       "    </tr>\n",
       "    <tr>\n",
       "      <th>124</th>\n",
       "      <td>q10</td>\n",
       "      <td>q20</td>\n",
       "      <td>0.311785</td>\n",
       "    </tr>\n",
       "    <tr>\n",
       "      <th>189</th>\n",
       "      <td>q14</td>\n",
       "      <td>q15</td>\n",
       "      <td>0.300119</td>\n",
       "    </tr>\n",
       "    <tr>\n",
       "      <th>192</th>\n",
       "      <td>q14</td>\n",
       "      <td>q18</td>\n",
       "      <td>0.331841</td>\n",
       "    </tr>\n",
       "    <tr>\n",
       "      <th>205</th>\n",
       "      <td>q15</td>\n",
       "      <td>q16</td>\n",
       "      <td>0.303992</td>\n",
       "    </tr>\n",
       "    <tr>\n",
       "      <th>207</th>\n",
       "      <td>q15</td>\n",
       "      <td>q18</td>\n",
       "      <td>0.308740</td>\n",
       "    </tr>\n",
       "    <tr>\n",
       "      <th>209</th>\n",
       "      <td>q15</td>\n",
       "      <td>q20</td>\n",
       "      <td>0.331225</td>\n",
       "    </tr>\n",
       "    <tr>\n",
       "      <th>221</th>\n",
       "      <td>q16</td>\n",
       "      <td>q18</td>\n",
       "      <td>0.358892</td>\n",
       "    </tr>\n",
       "    <tr>\n",
       "      <th>235</th>\n",
       "      <td>q17</td>\n",
       "      <td>q19</td>\n",
       "      <td>0.347558</td>\n",
       "    </tr>\n",
       "    <tr>\n",
       "      <th>236</th>\n",
       "      <td>q17</td>\n",
       "      <td>q20</td>\n",
       "      <td>0.329473</td>\n",
       "    </tr>\n",
       "    <tr>\n",
       "      <th>247</th>\n",
       "      <td>q18</td>\n",
       "      <td>q19</td>\n",
       "      <td>0.390180</td>\n",
       "    </tr>\n",
       "    <tr>\n",
       "      <th>248</th>\n",
       "      <td>q18</td>\n",
       "      <td>q20</td>\n",
       "      <td>0.358935</td>\n",
       "    </tr>\n",
       "    <tr>\n",
       "      <th>256</th>\n",
       "      <td>q18</td>\n",
       "      <td>q28</td>\n",
       "      <td>0.304269</td>\n",
       "    </tr>\n",
       "    <tr>\n",
       "      <th>267</th>\n",
       "      <td>q19</td>\n",
       "      <td>q28</td>\n",
       "      <td>0.355251</td>\n",
       "    </tr>\n",
       "    <tr>\n",
       "      <th>280</th>\n",
       "      <td>q21</td>\n",
       "      <td>q22</td>\n",
       "      <td>0.406173</td>\n",
       "    </tr>\n",
       "    <tr>\n",
       "      <th>304</th>\n",
       "      <td>q24</td>\n",
       "      <td>q25</td>\n",
       "      <td>0.357740</td>\n",
       "    </tr>\n",
       "    <tr>\n",
       "      <th>316</th>\n",
       "      <td>q26</td>\n",
       "      <td>q28</td>\n",
       "      <td>0.363712</td>\n",
       "    </tr>\n",
       "    <tr>\n",
       "      <th>317</th>\n",
       "      <td>q26</td>\n",
       "      <td>q29</td>\n",
       "      <td>0.417824</td>\n",
       "    </tr>\n",
       "    <tr>\n",
       "      <th>318</th>\n",
       "      <td>q26</td>\n",
       "      <td>q30</td>\n",
       "      <td>0.304327</td>\n",
       "    </tr>\n",
       "    <tr>\n",
       "      <th>319</th>\n",
       "      <td>q27</td>\n",
       "      <td>q28</td>\n",
       "      <td>0.305574</td>\n",
       "    </tr>\n",
       "    <tr>\n",
       "      <th>321</th>\n",
       "      <td>q27</td>\n",
       "      <td>q30</td>\n",
       "      <td>0.371197</td>\n",
       "    </tr>\n",
       "    <tr>\n",
       "      <th>324</th>\n",
       "      <td>q29</td>\n",
       "      <td>q30</td>\n",
       "      <td>0.338331</td>\n",
       "    </tr>\n",
       "  </tbody>\n",
       "</table>\n",
       "</div>"
      ],
      "text/plain": [
       "    question1 question2  CorrValue\n",
       "0          q5        q6   0.304915\n",
       "1          q5        q7   0.341523\n",
       "3          q5        q9   0.305720\n",
       "49         q7        q8   0.313854\n",
       "50         q7        q9   0.357293\n",
       "51         q7       q10   0.348597\n",
       "72         q8        q9   0.376264\n",
       "73         q8       q10   0.303224\n",
       "101        q9       q17   0.301396\n",
       "123       q10       q19   0.358217\n",
       "124       q10       q20   0.311785\n",
       "189       q14       q15   0.300119\n",
       "192       q14       q18   0.331841\n",
       "205       q15       q16   0.303992\n",
       "207       q15       q18   0.308740\n",
       "209       q15       q20   0.331225\n",
       "221       q16       q18   0.358892\n",
       "235       q17       q19   0.347558\n",
       "236       q17       q20   0.329473\n",
       "247       q18       q19   0.390180\n",
       "248       q18       q20   0.358935\n",
       "256       q18       q28   0.304269\n",
       "267       q19       q28   0.355251\n",
       "280       q21       q22   0.406173\n",
       "304       q24       q25   0.357740\n",
       "316       q26       q28   0.363712\n",
       "317       q26       q29   0.417824\n",
       "318       q26       q30   0.304327\n",
       "319       q27       q28   0.305574\n",
       "321       q27       q30   0.371197\n",
       "324       q29       q30   0.338331"
      ]
     },
     "execution_count": 16,
     "metadata": {},
     "output_type": "execute_result"
    }
   ],
   "source": [
    "# All these relatively strongly correlated questions have already been clustered into the desired groups.\n",
    "# Now let's find weakly correlated questions to see if any insights can be drawn.\n",
    "dfcorr[dfcorr.CorrValue.between(0.3, 0.5)]"
   ]
  },
  {
   "cell_type": "code",
   "execution_count": 17,
   "metadata": {},
   "outputs": [],
   "source": [
    "# Walk through all these pairs. And some interesting correlations can be noted for future analysis.\n",
    "relPairs = [\n",
    "    ('q9', 'q17'),   # 实践培训 vs 民企私营单位\n",
    "    ('q10', 'q19'),  # 思维方法 vs 自我发展\n",
    "    ('q10', 'q20'),  # 思维方法 vs 生活工作平衡\n",
    "    ('q15', 'q16'),  # 薪资福利 vs 国营\n",
    "    ('q15', 'q18'),  # 薪资福利 vs 外资\n",
    "    ('q15', 'q20'),  # 薪资福利 vs 生活工作平衡\n",
    "    ('q19', 'q28'),  # 自我发展 vs 传统/新兴职业\n",
    "    ('q26', 'q28'),  # 自立就业信心 vs 传统/新兴职业\n",
    "    ('q27', 'q28')   # 就业形势 vs 传统/新兴职业\n",
    "]"
   ]
  },
  {
   "cell_type": "code",
   "execution_count": 18,
   "metadata": {},
   "outputs": [
    {
     "name": "stdout",
     "output_type": "stream",
     "text": [
      "1.你的性别：\n",
      "2.你就读的学校的全称是：\n",
      "3.你的在读学历：\n",
      "4.你的年级\n",
      "5.你认为学历对你的就业影响有多大？\n",
      "6.相比就业，你多大程度上更愿意进行升本、考研等继续教育？\n",
      "7.你认为大学专业学习对你的就业影响有多大？\n",
      "8.你认为大学非本专业学习或跨专业、多专业的学习对你的就业影响有多大？\n",
      "9.你认为大学期间的种类实践活动及技术技能培训、职业培训等会多大程度上影响你的择业就业？\n",
      "10.你认为相较于知识和技能，在大学中培养的思维方式、处事方法等会对你的择业就业有多大影响？\n",
      "11.不考虑专业，你多大程度上会从自己的兴趣爱好或梦想出发择业就业？\n",
      "12.你多大程度上愿意在学校所在地就业？\n",
      "13.你多大程度上愿意回到家乡所在地就业？\n",
      "14.你多大程度上倾向于在一二线大城市就业？\n",
      "15.就业时你多大程度上首先考虑薪资福利？\n",
      "16.对于在国企、政府及事业单位，你在择业时倾向于选择的意愿有多大？\n",
      "17.对于民营及私营企业单位，你在择业时倾向于选择的意愿有多大？\n",
      "18.对于外商独资及合资企事业单位，你在择业时倾向于选择的意愿有多大？\n",
      "19.就业时你多大程度上首先考虑自我提升与长期发展？\n",
      "20.对生活与工作的平衡的期望会对你的就业产生多大影响？\n",
      "21.如果第一份工作不开心或不顺心，你多大可能会选择直接离职？\n",
      "22.你对频繁离职或跳槽的接受度有多高？\n",
      "23.父母、老师等长辈会对你的就业产生多大影响？\n",
      "24.朋友、同学等会对你的就业产生多大影响？\n",
      "25.你的男（或女）朋友会对你的就业有多大影响？\n",
      "26.你有多大信心独立自主而不借助于长辈、关系等找到自己满意的职业？\n",
      "27.你对自己关于目前就业形势的了解与判断有多大信心？\n",
      "28.相比传统行业和传统职业 ，你有多倾向于选择新兴行业和新兴职业？\n",
      "29.你对自己的职业生涯规划有多清晰？\n",
      "30.相比择业就业，你有多大倾向于自主创业？\n"
     ]
    }
   ],
   "source": [
    "# And manually grouped.\n",
    "groups = {\n",
    "    'basicInfo': ['q1', 'q2', 'q3', 'q4'],                 # 基本情况\n",
    "    'eduMajor': ['q5', 'q6', 'q7', 'q8', 'q9', 'q10'],     # 教育技能 \n",
    "    'geo': ['q12', 'q13', 'q14'],                          # 地理因素\n",
    "    'coreFactors': ['q11', 'q15', 'q19', 'q20'],           # 核心期望\n",
    "    'employer': ['q16', 'q17', 'q18', 'q28'],              # 雇主预期\n",
    "    'dropout': ['q21', 'q22'],                             # 离职考量\n",
    "    'influencers': ['q23', 'q24', 'q25'],                  # 决策影响者\n",
    "    'selfAwareness': ['q26', 'q27', 'q29'],                # 自我认知\n",
    "    'selfEmployed': ['q30']                                # 创业倾向\n",
    "}\n",
    "    \n",
    "for q in allQuestions:\n",
    "    print(q)"
   ]
  },
  {
   "cell_type": "code",
   "execution_count": 19,
   "metadata": {
    "scrolled": false
   },
   "outputs": [
    {
     "data": {
      "image/png": "[encoded data removed]",
      "text/plain": [
       "<matplotlib.figure.Figure at 0x1174a6390>"
      ]
     },
     "metadata": {},
     "output_type": "display_data"
    }
   ],
   "source": [
    "# Plot histogram for all questions to get an overview of their distributions.\n",
    "fig, ax = plt.subplots(figsize=(40,20), nrows=5, ncols=6, sharex=True)\n",
    "fig.suptitle('Histogram of All Questions', fontsize=40)\n",
    "xy = []\n",
    "for x in range(5):\n",
    "    for y in range(6):\n",
    "        xy.append((x, y))\n",
    "for ((x, y), q) in zip(xy, df.columns[4:]):\n",
    "    ax[(x, y)].hist(df[q], color='orange')\n",
    "    ax[(x, y)].bar(round(df[q].mean(), 1), 500, color='red', width=.1)\n",
    "    ax[(x, y)].title.set_text('{}   (mean: {})'.format(q, round(df[q].mean(), 1), fontsize=14))\n",
    "    ax[(x, y)].set_ylim(0,500)\n",
    "plt.show()"
   ]
  },
  {
   "cell_type": "markdown",
   "metadata": {},
   "source": [
    "#### Left skewed: \n",
    "    q5 to q11,     q14 to q21,     q26,    q28\n",
    "#### Right skewed\n",
    "    q22\n",
    "#### Approximately evenly distributed: \n",
    "    q12,     q13\n",
    "#### Similar to Gaussian distribution: \n",
    "    q23 to q25,     q27,    q29,     q30"
   ]
  },
  {
   "cell_type": "code",
   "execution_count": 20,
   "metadata": {
    "scrolled": false
   },
   "outputs": [
    {
     "data": {
      "image/png": "[encoded data removed]",
      "text/plain": [
       "<matplotlib.figure.Figure at 0x1170913c8>"
      ]
     },
     "metadata": {},
     "output_type": "display_data"
    }
   ],
   "source": [
    "# All question means are between 4.9 and 7.7.\n",
    "plt.figure(figsize=(16,6))\n",
    "plt.bar(df.columns[4:], [df[q].mean() for q in df.columns[4:]], color='gray')\n",
    "plt.title('Means Scores of All Questions')\n",
    "plt.show()"
   ]
  },
  {
   "cell_type": "code",
   "execution_count": 21,
   "metadata": {},
   "outputs": [
    {
     "data": {
      "image/png": "[encoded data removed]",
      "text/plain": [
       "<matplotlib.figure.Figure at 0x11ee0bb00>"
      ]
     },
     "metadata": {},
     "output_type": "display_data"
    }
   ],
   "source": [
    "# Plot the relPairs to confirm the correlations\n",
    "colors = ['red', 'green', 'lightblue', 'orange', 'cyan', 'purple', 'lightgreen', 'navy', 'pink', 'gray']\n",
    "fig, ax = plt.subplots(figsize=(20,8), nrows=2, ncols=5, sharex=True, sharey=True)\n",
    "fig.suptitle('Scatter Plot of Paired Questions', fontsize=40)\n",
    "xy = []\n",
    "for x in range(2):\n",
    "    for y in range(5):\n",
    "        xy.append((x, y))\n",
    "for (x, y), pair in zip(xy, relPairs):\n",
    "    p1 = []\n",
    "    p2 = []\n",
    "    for i in range(1, 11):\n",
    "        if i in df[pair[0]].value_counts().index:\n",
    "            p1.append(df[pair[0]].value_counts()[i])\n",
    "        else:\n",
    "            p1.append(0)\n",
    "        if i in df[pair[1]].value_counts().index:\n",
    "            p2.append(df[pair[1]].value_counts()[i])\n",
    "        else:\n",
    "            p2.append(0)\n",
    "    for i, color in zip(range(0,11), colors):\n",
    "        ax[(x, y)].scatter(p1[i],p2[i], color=color)\n",
    "    ax[(x, y)].title.set_text('{} vs {}'.format(pair[0], pair[1]))\n",
    "    ax[(x, y)].set_xlabel('{}'.format(pair[0]), fontsize=10)\n",
    "    ax[(x, y)].set_ylabel('{}'.format(pair[1]), fontsize=10)\n",
    "fig.legend(['1', '2', '3', '4', '5', '6', '7', '8', '9', '10'], loc='center left')\n",
    "plt.show()\n",
    "\n",
    "# Actually scatter plot of the value counts of questions has no use telling any useful information."
   ]
  },
  {
   "cell_type": "code",
   "execution_count": 22,
   "metadata": {},
   "outputs": [],
   "source": [
    "from sklearn.cluster import KMeans\n",
    "from sklearn.model_selection import train_test_split\n",
    "from sklearn.preprocessing import StandardScaler"
   ]
  },
  {
   "cell_type": "code",
   "execution_count": 23,
   "metadata": {},
   "outputs": [
    {
     "data": {
      "image/png": "[encoded data removed]",
      "text/plain": [
       "<matplotlib.figure.Figure at 0x11e01d668>"
      ]
     },
     "metadata": {},
     "output_type": "display_data"
    }
   ],
   "source": [
    "# Try to cluster the samples directly without any further handling\n",
    "data = df.iloc[:, 4:].values\n",
    "sclr = StandardScaler()\n",
    "data = sclr.fit_transform(data)\n",
    "elist = []\n",
    "for i in range(2,100):\n",
    "    km = KMeans(n_clusters=i)\n",
    "    km.fit(data)\n",
    "    elist.append(km.inertia_)\n",
    "\n",
    "plt.figure(figsize=(20,6))    \n",
    "plt.plot(range(2,100), elist)\n",
    "plt.show()"
   ]
  },
  {
   "cell_type": "markdown",
   "metadata": {},
   "source": [
    "Turns out the model isn't doing very well, and the proper clustering comes with too large n_clusters pramater. Not what we want."
   ]
  },
  {
   "cell_type": "code",
   "execution_count": 24,
   "metadata": {},
   "outputs": [
    {
     "data": {
      "text/plain": [
       "{'basicInfo': ['q1', 'q2', 'q3', 'q4'],\n",
       " 'coreFactors': ['q11', 'q15', 'q19', 'q20'],\n",
       " 'dropout': ['q21', 'q22'],\n",
       " 'eduMajor': ['q5', 'q6', 'q7', 'q8', 'q9', 'q10'],\n",
       " 'employer': ['q16', 'q17', 'q18', 'q28'],\n",
       " 'geo': ['q12', 'q13', 'q14'],\n",
       " 'influencers': ['q23', 'q24', 'q25'],\n",
       " 'selfAwareness': ['q26', 'q27', 'q29'],\n",
       " 'selfEmployed': ['q30']}"
      ]
     },
     "execution_count": 24,
     "metadata": {},
     "output_type": "execute_result"
    }
   ],
   "source": [
    "groups"
   ]
  },
  {
   "cell_type": "code",
   "execution_count": 25,
   "metadata": {},
   "outputs": [],
   "source": [
    "# Define a function to plot the elbow curve for the KMeans classifier.\n",
    "def plotElbow(data, maxcat):\n",
    "    sclr = StandardScaler()\n",
    "    data = sclr.fit_transform(data)\n",
    "    elist = []\n",
    "    for i in range(2,maxcat+1):\n",
    "        km = KMeans(n_clusters=i)\n",
    "        km.fit(data)\n",
    "        elist.append(km.inertia_)\n",
    "    plt.plot(range(2,maxcat+1), elist)\n",
    "    plt.show()"
   ]
  },
  {
   "cell_type": "code",
   "execution_count": 26,
   "metadata": {
    "scrolled": false
   },
   "outputs": [
    {
     "data": {
      "image/png": "[encoded data removed]",
      "text/plain": [
       "<matplotlib.figure.Figure at 0x1a23466390>"
      ]
     },
     "metadata": {},
     "output_type": "display_data"
    },
    {
     "data": {
      "image/png": "[encoded data removed]",
      "text/plain": [
       "<matplotlib.figure.Figure at 0x1a231a5438>"
      ]
     },
     "metadata": {},
     "output_type": "display_data"
    },
    {
     "data": {
      "image/png": "[encoded data removed]",
      "text/plain": [
       "<matplotlib.figure.Figure at 0x1a234a9550>"
      ]
     },
     "metadata": {},
     "output_type": "display_data"
    },
    {
     "data": {
      "image/png": "[encoded data removed]",
      "text/plain": [
       "<matplotlib.figure.Figure at 0x11e1c66a0>"
      ]
     },
     "metadata": {},
     "output_type": "display_data"
    },
    {
     "data": {
      "image/png": "[encoded data removed]",
      "text/plain": [
       "<matplotlib.figure.Figure at 0x1174c60b8>"
      ]
     },
     "metadata": {},
     "output_type": "display_data"
    },
    {
     "data": {
      "image/png": "[encoded data removed]",
      "text/plain": [
       "<matplotlib.figure.Figure at 0x1170cb400>"
      ]
     },
     "metadata": {},
     "output_type": "display_data"
    },
    {
     "data": {
      "image/png": "[encoded data removed]",
      "text/plain": [
       "<matplotlib.figure.Figure at 0x1a234720b8>"
      ]
     },
     "metadata": {},
     "output_type": "display_data"
    },
    {
     "data": {
      "image/png": "[encoded data removed]",
      "text/plain": [
       "<matplotlib.figure.Figure at 0x11d50acf8>"
      ]
     },
     "metadata": {},
     "output_type": "display_data"
    }
   ],
   "source": [
    "# See if proper elbow points can be drawn from all these groups.\n",
    "for k, v in groups.items():\n",
    "    if k != 'basicInfo':\n",
    "        plt.title(k)\n",
    "        plotElbow(df[v], 20)\n",
    "        "
   ]
  },
  {
   "cell_type": "markdown",
   "metadata": {},
   "source": [
    "Only selfEmployed shows expected curve. Still the proper n_cluster pramater comes late.\n",
    "Need to figure out other solutions."
   ]
  },
  {
   "cell_type": "code",
   "execution_count": 27,
   "metadata": {},
   "outputs": [],
   "source": [
    "from sklearn.decomposition import PCA"
   ]
  },
  {
   "cell_type": "code",
   "execution_count": 28,
   "metadata": {},
   "outputs": [
    {
     "data": {
      "text/html": [
       "<div>\n",
       "<style scoped>\n",
       "    .dataframe tbody tr th:only-of-type {\n",
       "        vertical-align: middle;\n",
       "    }\n",
       "\n",
       "    .dataframe tbody tr th {\n",
       "        vertical-align: top;\n",
       "    }\n",
       "\n",
       "    .dataframe thead th {\n",
       "        text-align: right;\n",
       "    }\n",
       "</style>\n",
       "<table border=\"1\" class=\"dataframe\">\n",
       "  <thead>\n",
       "    <tr style=\"text-align: right;\">\n",
       "      <th></th>\n",
       "      <th>eduMajor</th>\n",
       "      <th>geo</th>\n",
       "      <th>coreFactors</th>\n",
       "      <th>employer</th>\n",
       "      <th>dropout</th>\n",
       "      <th>influencers</th>\n",
       "      <th>selfAwareness</th>\n",
       "      <th>selfEmployed</th>\n",
       "    </tr>\n",
       "  </thead>\n",
       "  <tbody>\n",
       "    <tr>\n",
       "      <th>0</th>\n",
       "      <td>0.172607</td>\n",
       "      <td>1.152897</td>\n",
       "      <td>-0.218224</td>\n",
       "      <td>-1.738515</td>\n",
       "      <td>0.137609</td>\n",
       "      <td>0.619529</td>\n",
       "      <td>-0.609613</td>\n",
       "      <td>-0.666795</td>\n",
       "    </tr>\n",
       "    <tr>\n",
       "      <th>1</th>\n",
       "      <td>-0.199903</td>\n",
       "      <td>1.149412</td>\n",
       "      <td>1.010795</td>\n",
       "      <td>2.043887</td>\n",
       "      <td>0.424960</td>\n",
       "      <td>-2.024947</td>\n",
       "      <td>2.114590</td>\n",
       "      <td>2.227783</td>\n",
       "    </tr>\n",
       "    <tr>\n",
       "      <th>2</th>\n",
       "      <td>-2.490993</td>\n",
       "      <td>-0.489279</td>\n",
       "      <td>-2.867623</td>\n",
       "      <td>-1.635981</td>\n",
       "      <td>-0.564792</td>\n",
       "      <td>0.299614</td>\n",
       "      <td>-1.397613</td>\n",
       "      <td>-0.666795</td>\n",
       "    </tr>\n",
       "    <tr>\n",
       "      <th>3</th>\n",
       "      <td>1.513276</td>\n",
       "      <td>-0.211725</td>\n",
       "      <td>1.088970</td>\n",
       "      <td>1.832057</td>\n",
       "      <td>-1.011767</td>\n",
       "      <td>-0.020302</td>\n",
       "      <td>1.474869</td>\n",
       "      <td>0.780494</td>\n",
       "    </tr>\n",
       "    <tr>\n",
       "      <th>4</th>\n",
       "      <td>-0.053895</td>\n",
       "      <td>0.067299</td>\n",
       "      <td>-0.140050</td>\n",
       "      <td>0.354120</td>\n",
       "      <td>-0.213591</td>\n",
       "      <td>-0.306315</td>\n",
       "      <td>0.358489</td>\n",
       "      <td>0.298064</td>\n",
       "    </tr>\n",
       "  </tbody>\n",
       "</table>\n",
       "</div>"
      ],
      "text/plain": [
       "   eduMajor       geo  coreFactors  employer   dropout  influencers  \\\n",
       "0  0.172607  1.152897    -0.218224 -1.738515  0.137609     0.619529   \n",
       "1 -0.199903  1.149412     1.010795  2.043887  0.424960    -2.024947   \n",
       "2 -2.490993 -0.489279    -2.867623 -1.635981 -0.564792     0.299614   \n",
       "3  1.513276 -0.211725     1.088970  1.832057 -1.011767    -0.020302   \n",
       "4 -0.053895  0.067299    -0.140050  0.354120 -0.213591    -0.306315   \n",
       "\n",
       "   selfAwareness  selfEmployed  \n",
       "0      -0.609613     -0.666795  \n",
       "1       2.114590      2.227783  \n",
       "2      -1.397613     -0.666795  \n",
       "3       1.474869      0.780494  \n",
       "4       0.358489      0.298064  "
      ]
     },
     "execution_count": 28,
     "metadata": {},
     "output_type": "execute_result"
    }
   ],
   "source": [
    "# Try out PCA on each group to see if expectation could be satisfied.\n",
    "pdf = pd.DataFrame(np.zeros((len(df), 8)), columns=[key for key in groups.keys()][1:])\n",
    "for k, v in groups.items():\n",
    "    p = PCA(n_components=1)\n",
    "    if k != 'basicInfo':\n",
    "        slr = StandardScaler()\n",
    "        pdf[k] = p.fit_transform(slr.fit_transform(df[v].values))\n",
    "pdf.head()"
   ]
  },
  {
   "cell_type": "code",
   "execution_count": 29,
   "metadata": {},
   "outputs": [
    {
     "data": {
      "image/png": "[encoded data removed]",
      "text/plain": [
       "<matplotlib.figure.Figure at 0x1174a9a90>"
      ]
     },
     "metadata": {},
     "output_type": "display_data"
    }
   ],
   "source": [
    "plotElbow(pdf, 200)"
   ]
  },
  {
   "cell_type": "markdown",
   "metadata": {},
   "source": [
    "PCA is not a good option for this dataset, for losing information after applying it and the outcome isn't as expected."
   ]
  },
  {
   "cell_type": "code",
   "execution_count": 30,
   "metadata": {},
   "outputs": [
    {
     "data": {
      "text/html": [
       "<div>\n",
       "<style scoped>\n",
       "    .dataframe tbody tr th:only-of-type {\n",
       "        vertical-align: middle;\n",
       "    }\n",
       "\n",
       "    .dataframe tbody tr th {\n",
       "        vertical-align: top;\n",
       "    }\n",
       "\n",
       "    .dataframe thead th {\n",
       "        text-align: right;\n",
       "    }\n",
       "</style>\n",
       "<table border=\"1\" class=\"dataframe\">\n",
       "  <thead>\n",
       "    <tr style=\"text-align: right;\">\n",
       "      <th></th>\n",
       "      <th>eduMajor</th>\n",
       "      <th>geo</th>\n",
       "      <th>coreFactors</th>\n",
       "      <th>employer</th>\n",
       "      <th>dropout</th>\n",
       "      <th>influencers</th>\n",
       "      <th>selfAwareness</th>\n",
       "      <th>selfEmployed</th>\n",
       "    </tr>\n",
       "  </thead>\n",
       "  <tbody>\n",
       "    <tr>\n",
       "      <th>0</th>\n",
       "      <td>6.833333</td>\n",
       "      <td>6.666667</td>\n",
       "      <td>7.50</td>\n",
       "      <td>8.25</td>\n",
       "      <td>5.5</td>\n",
       "      <td>6.000000</td>\n",
       "      <td>6.666667</td>\n",
       "      <td>7.0</td>\n",
       "    </tr>\n",
       "    <tr>\n",
       "      <th>1</th>\n",
       "      <td>7.166667</td>\n",
       "      <td>3.666667</td>\n",
       "      <td>6.50</td>\n",
       "      <td>5.00</td>\n",
       "      <td>5.0</td>\n",
       "      <td>3.333333</td>\n",
       "      <td>4.000000</td>\n",
       "      <td>1.0</td>\n",
       "    </tr>\n",
       "    <tr>\n",
       "      <th>2</th>\n",
       "      <td>9.000000</td>\n",
       "      <td>7.333333</td>\n",
       "      <td>9.75</td>\n",
       "      <td>8.00</td>\n",
       "      <td>6.5</td>\n",
       "      <td>5.666667</td>\n",
       "      <td>7.333333</td>\n",
       "      <td>7.0</td>\n",
       "    </tr>\n",
       "    <tr>\n",
       "      <th>3</th>\n",
       "      <td>5.833333</td>\n",
       "      <td>7.000000</td>\n",
       "      <td>6.50</td>\n",
       "      <td>5.25</td>\n",
       "      <td>7.0</td>\n",
       "      <td>5.333333</td>\n",
       "      <td>4.666667</td>\n",
       "      <td>4.0</td>\n",
       "    </tr>\n",
       "    <tr>\n",
       "      <th>4</th>\n",
       "      <td>7.166667</td>\n",
       "      <td>6.000000</td>\n",
       "      <td>7.50</td>\n",
       "      <td>6.50</td>\n",
       "      <td>6.0</td>\n",
       "      <td>4.666667</td>\n",
       "      <td>5.666667</td>\n",
       "      <td>5.0</td>\n",
       "    </tr>\n",
       "  </tbody>\n",
       "</table>\n",
       "</div>"
      ],
      "text/plain": [
       "   eduMajor       geo  coreFactors  employer  dropout  influencers  \\\n",
       "0  6.833333  6.666667         7.50      8.25      5.5     6.000000   \n",
       "1  7.166667  3.666667         6.50      5.00      5.0     3.333333   \n",
       "2  9.000000  7.333333         9.75      8.00      6.5     5.666667   \n",
       "3  5.833333  7.000000         6.50      5.25      7.0     5.333333   \n",
       "4  7.166667  6.000000         7.50      6.50      6.0     4.666667   \n",
       "\n",
       "   selfAwareness  selfEmployed  \n",
       "0       6.666667           7.0  \n",
       "1       4.000000           1.0  \n",
       "2       7.333333           7.0  \n",
       "3       4.666667           4.0  \n",
       "4       5.666667           5.0  "
      ]
     },
     "execution_count": 30,
     "metadata": {},
     "output_type": "execute_result"
    }
   ],
   "source": [
    "# What about simply get the mean of each group and cluster with KMeans\n",
    "pdf = pd.DataFrame(np.zeros((len(df), 8)), columns=list(groups.keys())[1:])\n",
    "for k, v in groups.items():\n",
    "    if k != 'basicInfo':\n",
    "        pdf[k] = df[v].mean(axis=1)\n",
    "pdf.head()"
   ]
  },
  {
   "cell_type": "code",
   "execution_count": 31,
   "metadata": {},
   "outputs": [
    {
     "data": {
      "image/png": "[encoded data removed]",
      "text/plain": [
       "<matplotlib.figure.Figure at 0x11e034c50>"
      ]
     },
     "metadata": {},
     "output_type": "display_data"
    }
   ],
   "source": [
    "plotElbow(pdf.values, 200)"
   ]
  },
  {
   "cell_type": "markdown",
   "metadata": {},
   "source": [
    "Using the average ratings of each groups still doesn't yied expected curve."
   ]
  },
  {
   "cell_type": "code",
   "execution_count": 32,
   "metadata": {
    "scrolled": true
   },
   "outputs": [
    {
     "data": {
      "image/png": "[encoded data removed]",
      "text/plain": [
       "<matplotlib.figure.Figure at 0x11750dfd0>"
      ]
     },
     "metadata": {},
     "output_type": "display_data"
    }
   ],
   "source": [
    "# Now we have to delve into groups for deep feature analysis and see if any improvement could be made.\n",
    "# In fact, after trying, still expectation can't be satisfied.\n",
    "# So a different stradegy is taken: combine features with similar distributions, then correlated features.\n",
    "# Through such approach to finally deduce features of each group into just one.\n",
    "# This is another way of demensionality reduction.\n",
    "# And at the same time it scales the differences between features to make comparisons more visible.\n",
    "# coreFactors first\n",
    "plt.hist(df.q11, color='green', alpha=.3)\n",
    "plt.hist(df.q15, color='orange', alpha=.3)\n",
    "plt.hist(df.q19, color='grey', alpha=.3)\n",
    "plt.hist(df.q20, color='coral', alpha=.3)\n",
    "plt.legend(['q11', 'q15', 'q19', 'q20'], loc='upper left')\n",
    "plt.show()"
   ]
  },
  {
   "cell_type": "code",
   "execution_count": 33,
   "metadata": {},
   "outputs": [
    {
     "data": {
      "text/html": [
       "<div>\n",
       "<style scoped>\n",
       "    .dataframe tbody tr th:only-of-type {\n",
       "        vertical-align: middle;\n",
       "    }\n",
       "\n",
       "    .dataframe tbody tr th {\n",
       "        vertical-align: top;\n",
       "    }\n",
       "\n",
       "    .dataframe thead th {\n",
       "        text-align: right;\n",
       "    }\n",
       "</style>\n",
       "<table border=\"1\" class=\"dataframe\">\n",
       "  <thead>\n",
       "    <tr style=\"text-align: right;\">\n",
       "      <th></th>\n",
       "      <th>q11</th>\n",
       "      <th>q15</th>\n",
       "      <th>q19</th>\n",
       "      <th>q20</th>\n",
       "    </tr>\n",
       "  </thead>\n",
       "  <tbody>\n",
       "    <tr>\n",
       "      <th>q11</th>\n",
       "      <td>1.000000</td>\n",
       "      <td>0.120955</td>\n",
       "      <td>0.214734</td>\n",
       "      <td>0.206558</td>\n",
       "    </tr>\n",
       "    <tr>\n",
       "      <th>q15</th>\n",
       "      <td>0.120955</td>\n",
       "      <td>1.000000</td>\n",
       "      <td>0.223262</td>\n",
       "      <td>0.331225</td>\n",
       "    </tr>\n",
       "    <tr>\n",
       "      <th>q19</th>\n",
       "      <td>0.214734</td>\n",
       "      <td>0.223262</td>\n",
       "      <td>1.000000</td>\n",
       "      <td>0.519533</td>\n",
       "    </tr>\n",
       "    <tr>\n",
       "      <th>q20</th>\n",
       "      <td>0.206558</td>\n",
       "      <td>0.331225</td>\n",
       "      <td>0.519533</td>\n",
       "      <td>1.000000</td>\n",
       "    </tr>\n",
       "  </tbody>\n",
       "</table>\n",
       "</div>"
      ],
      "text/plain": [
       "          q11       q15       q19       q20\n",
       "q11  1.000000  0.120955  0.214734  0.206558\n",
       "q15  0.120955  1.000000  0.223262  0.331225\n",
       "q19  0.214734  0.223262  1.000000  0.519533\n",
       "q20  0.206558  0.331225  0.519533  1.000000"
      ]
     },
     "execution_count": 33,
     "metadata": {},
     "output_type": "execute_result"
    }
   ],
   "source": [
    "df[groups['coreFactors']].corr()"
   ]
  },
  {
   "cell_type": "code",
   "execution_count": 34,
   "metadata": {
    "scrolled": false
   },
   "outputs": [
    {
     "data": {
      "text/html": [
       "<div>\n",
       "<style scoped>\n",
       "    .dataframe tbody tr th:only-of-type {\n",
       "        vertical-align: middle;\n",
       "    }\n",
       "\n",
       "    .dataframe tbody tr th {\n",
       "        vertical-align: top;\n",
       "    }\n",
       "\n",
       "    .dataframe thead th {\n",
       "        text-align: right;\n",
       "    }\n",
       "</style>\n",
       "<table border=\"1\" class=\"dataframe\">\n",
       "  <thead>\n",
       "    <tr style=\"text-align: right;\">\n",
       "      <th></th>\n",
       "      <th>q11</th>\n",
       "      <th>q15</th>\n",
       "      <th>q19</th>\n",
       "      <th>q20</th>\n",
       "    </tr>\n",
       "  </thead>\n",
       "  <tbody>\n",
       "    <tr>\n",
       "      <th>count</th>\n",
       "      <td>1222.000000</td>\n",
       "      <td>1222.000000</td>\n",
       "      <td>1222.000000</td>\n",
       "      <td>1222.000000</td>\n",
       "    </tr>\n",
       "    <tr>\n",
       "      <th>mean</th>\n",
       "      <td>7.320786</td>\n",
       "      <td>7.157119</td>\n",
       "      <td>7.720949</td>\n",
       "      <td>7.136661</td>\n",
       "    </tr>\n",
       "    <tr>\n",
       "      <th>std</th>\n",
       "      <td>1.838761</td>\n",
       "      <td>1.610732</td>\n",
       "      <td>1.506699</td>\n",
       "      <td>1.547018</td>\n",
       "    </tr>\n",
       "    <tr>\n",
       "      <th>min</th>\n",
       "      <td>1.000000</td>\n",
       "      <td>1.000000</td>\n",
       "      <td>1.000000</td>\n",
       "      <td>1.000000</td>\n",
       "    </tr>\n",
       "    <tr>\n",
       "      <th>25%</th>\n",
       "      <td>6.000000</td>\n",
       "      <td>6.000000</td>\n",
       "      <td>7.000000</td>\n",
       "      <td>6.000000</td>\n",
       "    </tr>\n",
       "    <tr>\n",
       "      <th>50%</th>\n",
       "      <td>7.000000</td>\n",
       "      <td>7.000000</td>\n",
       "      <td>8.000000</td>\n",
       "      <td>7.000000</td>\n",
       "    </tr>\n",
       "    <tr>\n",
       "      <th>75%</th>\n",
       "      <td>9.000000</td>\n",
       "      <td>8.000000</td>\n",
       "      <td>9.000000</td>\n",
       "      <td>8.000000</td>\n",
       "    </tr>\n",
       "    <tr>\n",
       "      <th>max</th>\n",
       "      <td>10.000000</td>\n",
       "      <td>10.000000</td>\n",
       "      <td>10.000000</td>\n",
       "      <td>10.000000</td>\n",
       "    </tr>\n",
       "  </tbody>\n",
       "</table>\n",
       "</div>"
      ],
      "text/plain": [
       "               q11          q15          q19          q20\n",
       "count  1222.000000  1222.000000  1222.000000  1222.000000\n",
       "mean      7.320786     7.157119     7.720949     7.136661\n",
       "std       1.838761     1.610732     1.506699     1.547018\n",
       "min       1.000000     1.000000     1.000000     1.000000\n",
       "25%       6.000000     6.000000     7.000000     6.000000\n",
       "50%       7.000000     7.000000     8.000000     7.000000\n",
       "75%       9.000000     8.000000     9.000000     8.000000\n",
       "max      10.000000    10.000000    10.000000    10.000000"
      ]
     },
     "execution_count": 34,
     "metadata": {},
     "output_type": "execute_result"
    }
   ],
   "source": [
    "coredf = df[groups['coreFactors']]\n",
    "coredf.describe()"
   ]
  },
  {
   "cell_type": "code",
   "execution_count": 35,
   "metadata": {},
   "outputs": [
    {
     "name": "stdout",
     "output_type": "stream",
     "text": [
      "Multiple Comparison of Means - Tukey HSD,FWER=0.05\n",
      "=============================================\n",
      "group1 group2 meandiff  lower   upper  reject\n",
      "---------------------------------------------\n",
      " q11    q15   -0.1637  -0.3332  0.0059 False \n",
      " q11    q19    0.4002   0.2306  0.5697  True \n",
      " q11    q20   -0.1841  -0.3537 -0.0146  True \n",
      " q15    q19    0.5638   0.3943  0.7334  True \n",
      " q15    q20   -0.0205   -0.19   0.1491 False \n",
      " q19    q20   -0.5843  -0.7538 -0.4147  True \n",
      "---------------------------------------------\n"
     ]
    }
   ],
   "source": [
    "from statsmodels.stats.multicomp import pairwise_tukeyhsd\n",
    "corenew = np.concatenate([df.q11.values, df.q15.values, df.q19.values, df.q20.values])\n",
    "labels = ['q11'] * len(df) + ['q15'] * len(df)  + ['q19'] * len(df)  + ['q20'] * len(df) \n",
    "results = pairwise_tukeyhsd(corenew, labels, .05)\n",
    "print(results)"
   ]
  },
  {
   "cell_type": "code",
   "execution_count": 89,
   "metadata": {
    "scrolled": true
   },
   "outputs": [
    {
     "data": {
      "text/html": [
       "<div>\n",
       "<style scoped>\n",
       "    .dataframe tbody tr th:only-of-type {\n",
       "        vertical-align: middle;\n",
       "    }\n",
       "\n",
       "    .dataframe tbody tr th {\n",
       "        vertical-align: top;\n",
       "    }\n",
       "\n",
       "    .dataframe thead th {\n",
       "        text-align: right;\n",
       "    }\n",
       "</style>\n",
       "<table border=\"1\" class=\"dataframe\">\n",
       "  <thead>\n",
       "    <tr style=\"text-align: right;\">\n",
       "      <th></th>\n",
       "      <th>q11</th>\n",
       "      <th>q152</th>\n",
       "      <th>q19</th>\n",
       "    </tr>\n",
       "  </thead>\n",
       "  <tbody>\n",
       "    <tr>\n",
       "      <th>count</th>\n",
       "      <td>1222.000000</td>\n",
       "      <td>1222.000000</td>\n",
       "      <td>1222.000000</td>\n",
       "    </tr>\n",
       "    <tr>\n",
       "      <th>mean</th>\n",
       "      <td>7.320786</td>\n",
       "      <td>7.146890</td>\n",
       "      <td>7.720949</td>\n",
       "    </tr>\n",
       "    <tr>\n",
       "      <th>std</th>\n",
       "      <td>1.838761</td>\n",
       "      <td>1.288258</td>\n",
       "      <td>1.506699</td>\n",
       "    </tr>\n",
       "    <tr>\n",
       "      <th>min</th>\n",
       "      <td>1.000000</td>\n",
       "      <td>3.000000</td>\n",
       "      <td>1.000000</td>\n",
       "    </tr>\n",
       "    <tr>\n",
       "      <th>25%</th>\n",
       "      <td>6.000000</td>\n",
       "      <td>6.500000</td>\n",
       "      <td>7.000000</td>\n",
       "    </tr>\n",
       "    <tr>\n",
       "      <th>50%</th>\n",
       "      <td>7.000000</td>\n",
       "      <td>7.000000</td>\n",
       "      <td>8.000000</td>\n",
       "    </tr>\n",
       "    <tr>\n",
       "      <th>75%</th>\n",
       "      <td>9.000000</td>\n",
       "      <td>8.000000</td>\n",
       "      <td>9.000000</td>\n",
       "    </tr>\n",
       "    <tr>\n",
       "      <th>max</th>\n",
       "      <td>10.000000</td>\n",
       "      <td>10.000000</td>\n",
       "      <td>10.000000</td>\n",
       "    </tr>\n",
       "  </tbody>\n",
       "</table>\n",
       "</div>"
      ],
      "text/plain": [
       "               q11         q152          q19\n",
       "count  1222.000000  1222.000000  1222.000000\n",
       "mean      7.320786     7.146890     7.720949\n",
       "std       1.838761     1.288258     1.506699\n",
       "min       1.000000     3.000000     1.000000\n",
       "25%       6.000000     6.500000     7.000000\n",
       "50%       7.000000     7.000000     8.000000\n",
       "75%       9.000000     8.000000     9.000000\n",
       "max      10.000000    10.000000    10.000000"
      ]
     },
     "execution_count": 89,
     "metadata": {},
     "output_type": "execute_result"
    }
   ],
   "source": [
    "coreFactors = pd.DataFrame(np.zeros((len(df), 3)), columns=['q11', 'q152', 'q19'])\n",
    "coreFactors.q11 = df.q11\n",
    "coreFactors.q152 = df[['q15', 'q20']].mean(axis=1)\n",
    "coreFactors.q19 = df.q19\n",
    "coreFactors.describe()"
   ]
  },
  {
   "cell_type": "code",
   "execution_count": 90,
   "metadata": {},
   "outputs": [
    {
     "data": {
      "text/html": [
       "<div>\n",
       "<style scoped>\n",
       "    .dataframe tbody tr th:only-of-type {\n",
       "        vertical-align: middle;\n",
       "    }\n",
       "\n",
       "    .dataframe tbody tr th {\n",
       "        vertical-align: top;\n",
       "    }\n",
       "\n",
       "    .dataframe thead th {\n",
       "        text-align: right;\n",
       "    }\n",
       "</style>\n",
       "<table border=\"1\" class=\"dataframe\">\n",
       "  <thead>\n",
       "    <tr style=\"text-align: right;\">\n",
       "      <th></th>\n",
       "      <th>q11</th>\n",
       "      <th>q152</th>\n",
       "      <th>q19</th>\n",
       "    </tr>\n",
       "  </thead>\n",
       "  <tbody>\n",
       "    <tr>\n",
       "      <th>q11</th>\n",
       "      <td>1.000000</td>\n",
       "      <td>0.199640</td>\n",
       "      <td>0.214734</td>\n",
       "    </tr>\n",
       "    <tr>\n",
       "      <th>q152</th>\n",
       "      <td>0.199640</td>\n",
       "      <td>1.000000</td>\n",
       "      <td>0.451518</td>\n",
       "    </tr>\n",
       "    <tr>\n",
       "      <th>q19</th>\n",
       "      <td>0.214734</td>\n",
       "      <td>0.451518</td>\n",
       "      <td>1.000000</td>\n",
       "    </tr>\n",
       "  </tbody>\n",
       "</table>\n",
       "</div>"
      ],
      "text/plain": [
       "           q11      q152       q19\n",
       "q11   1.000000  0.199640  0.214734\n",
       "q152  0.199640  1.000000  0.451518\n",
       "q19   0.214734  0.451518  1.000000"
      ]
     },
     "execution_count": 90,
     "metadata": {},
     "output_type": "execute_result"
    }
   ],
   "source": [
    "coreFactors.corr()"
   ]
  },
  {
   "cell_type": "code",
   "execution_count": 92,
   "metadata": {},
   "outputs": [],
   "source": [
    "coreFactors['q1592'] = (coreFactors.q152 + coreFactors.q19) / 2\n",
    "coreFactors['core'] = (coreFactors.q11 + coreFactors.q1592) / 2\n",
    "coreFactors = coreFactors.core"
   ]
  },
  {
   "cell_type": "markdown",
   "metadata": {},
   "source": [
    "## Then apply this strategy to all remaining groups."
   ]
  },
  {
   "cell_type": "code",
   "execution_count": 39,
   "metadata": {
    "scrolled": false
   },
   "outputs": [
    {
     "data": {
      "text/html": [
       "<div>\n",
       "<style scoped>\n",
       "    .dataframe tbody tr th:only-of-type {\n",
       "        vertical-align: middle;\n",
       "    }\n",
       "\n",
       "    .dataframe tbody tr th {\n",
       "        vertical-align: top;\n",
       "    }\n",
       "\n",
       "    .dataframe thead th {\n",
       "        text-align: right;\n",
       "    }\n",
       "</style>\n",
       "<table border=\"1\" class=\"dataframe\">\n",
       "  <thead>\n",
       "    <tr style=\"text-align: right;\">\n",
       "      <th></th>\n",
       "      <th>q5</th>\n",
       "      <th>q6</th>\n",
       "      <th>q7</th>\n",
       "      <th>q8</th>\n",
       "      <th>q9</th>\n",
       "      <th>q10</th>\n",
       "    </tr>\n",
       "  </thead>\n",
       "  <tbody>\n",
       "    <tr>\n",
       "      <th>count</th>\n",
       "      <td>1222.000000</td>\n",
       "      <td>1222.000000</td>\n",
       "      <td>1222.000000</td>\n",
       "      <td>1222.000000</td>\n",
       "      <td>1222.000000</td>\n",
       "      <td>1222.000000</td>\n",
       "    </tr>\n",
       "    <tr>\n",
       "      <th>mean</th>\n",
       "      <td>7.431260</td>\n",
       "      <td>6.858429</td>\n",
       "      <td>6.783142</td>\n",
       "      <td>6.454173</td>\n",
       "      <td>6.775777</td>\n",
       "      <td>7.486088</td>\n",
       "    </tr>\n",
       "    <tr>\n",
       "      <th>std</th>\n",
       "      <td>1.803111</td>\n",
       "      <td>2.284533</td>\n",
       "      <td>1.911544</td>\n",
       "      <td>1.870705</td>\n",
       "      <td>1.836602</td>\n",
       "      <td>1.740133</td>\n",
       "    </tr>\n",
       "    <tr>\n",
       "      <th>min</th>\n",
       "      <td>1.000000</td>\n",
       "      <td>1.000000</td>\n",
       "      <td>1.000000</td>\n",
       "      <td>1.000000</td>\n",
       "      <td>1.000000</td>\n",
       "      <td>1.000000</td>\n",
       "    </tr>\n",
       "    <tr>\n",
       "      <th>25%</th>\n",
       "      <td>6.000000</td>\n",
       "      <td>5.000000</td>\n",
       "      <td>5.000000</td>\n",
       "      <td>5.000000</td>\n",
       "      <td>6.000000</td>\n",
       "      <td>6.000000</td>\n",
       "    </tr>\n",
       "    <tr>\n",
       "      <th>50%</th>\n",
       "      <td>8.000000</td>\n",
       "      <td>7.000000</td>\n",
       "      <td>7.000000</td>\n",
       "      <td>6.000000</td>\n",
       "      <td>7.000000</td>\n",
       "      <td>8.000000</td>\n",
       "    </tr>\n",
       "    <tr>\n",
       "      <th>75%</th>\n",
       "      <td>8.000000</td>\n",
       "      <td>9.000000</td>\n",
       "      <td>8.000000</td>\n",
       "      <td>8.000000</td>\n",
       "      <td>8.000000</td>\n",
       "      <td>9.000000</td>\n",
       "    </tr>\n",
       "    <tr>\n",
       "      <th>max</th>\n",
       "      <td>10.000000</td>\n",
       "      <td>10.000000</td>\n",
       "      <td>10.000000</td>\n",
       "      <td>10.000000</td>\n",
       "      <td>10.000000</td>\n",
       "      <td>10.000000</td>\n",
       "    </tr>\n",
       "  </tbody>\n",
       "</table>\n",
       "</div>"
      ],
      "text/plain": [
       "                q5           q6           q7           q8           q9  \\\n",
       "count  1222.000000  1222.000000  1222.000000  1222.000000  1222.000000   \n",
       "mean      7.431260     6.858429     6.783142     6.454173     6.775777   \n",
       "std       1.803111     2.284533     1.911544     1.870705     1.836602   \n",
       "min       1.000000     1.000000     1.000000     1.000000     1.000000   \n",
       "25%       6.000000     5.000000     5.000000     5.000000     6.000000   \n",
       "50%       8.000000     7.000000     7.000000     6.000000     7.000000   \n",
       "75%       8.000000     9.000000     8.000000     8.000000     8.000000   \n",
       "max      10.000000    10.000000    10.000000    10.000000    10.000000   \n",
       "\n",
       "               q10  \n",
       "count  1222.000000  \n",
       "mean      7.486088  \n",
       "std       1.740133  \n",
       "min       1.000000  \n",
       "25%       6.000000  \n",
       "50%       8.000000  \n",
       "75%       9.000000  \n",
       "max      10.000000  "
      ]
     },
     "execution_count": 39,
     "metadata": {},
     "output_type": "execute_result"
    }
   ],
   "source": [
    "edudf = df[groups['eduMajor']]\n",
    "edudf.describe()"
   ]
  },
  {
   "cell_type": "code",
   "execution_count": 40,
   "metadata": {
    "scrolled": false
   },
   "outputs": [
    {
     "data": {
      "text/html": [
       "<div>\n",
       "<style scoped>\n",
       "    .dataframe tbody tr th:only-of-type {\n",
       "        vertical-align: middle;\n",
       "    }\n",
       "\n",
       "    .dataframe tbody tr th {\n",
       "        vertical-align: top;\n",
       "    }\n",
       "\n",
       "    .dataframe thead th {\n",
       "        text-align: right;\n",
       "    }\n",
       "</style>\n",
       "<table border=\"1\" class=\"dataframe\">\n",
       "  <thead>\n",
       "    <tr style=\"text-align: right;\">\n",
       "      <th></th>\n",
       "      <th>q5</th>\n",
       "      <th>q6</th>\n",
       "      <th>q7</th>\n",
       "      <th>q8</th>\n",
       "      <th>q9</th>\n",
       "      <th>q10</th>\n",
       "    </tr>\n",
       "  </thead>\n",
       "  <tbody>\n",
       "    <tr>\n",
       "      <th>q5</th>\n",
       "      <td>1.000000</td>\n",
       "      <td>0.304915</td>\n",
       "      <td>0.341523</td>\n",
       "      <td>0.278412</td>\n",
       "      <td>0.305720</td>\n",
       "      <td>0.265939</td>\n",
       "    </tr>\n",
       "    <tr>\n",
       "      <th>q6</th>\n",
       "      <td>0.304915</td>\n",
       "      <td>1.000000</td>\n",
       "      <td>0.215954</td>\n",
       "      <td>0.203054</td>\n",
       "      <td>0.175718</td>\n",
       "      <td>0.141965</td>\n",
       "    </tr>\n",
       "    <tr>\n",
       "      <th>q7</th>\n",
       "      <td>0.341523</td>\n",
       "      <td>0.215954</td>\n",
       "      <td>1.000000</td>\n",
       "      <td>0.313854</td>\n",
       "      <td>0.357293</td>\n",
       "      <td>0.348597</td>\n",
       "    </tr>\n",
       "    <tr>\n",
       "      <th>q8</th>\n",
       "      <td>0.278412</td>\n",
       "      <td>0.203054</td>\n",
       "      <td>0.313854</td>\n",
       "      <td>1.000000</td>\n",
       "      <td>0.376264</td>\n",
       "      <td>0.303224</td>\n",
       "    </tr>\n",
       "    <tr>\n",
       "      <th>q9</th>\n",
       "      <td>0.305720</td>\n",
       "      <td>0.175718</td>\n",
       "      <td>0.357293</td>\n",
       "      <td>0.376264</td>\n",
       "      <td>1.000000</td>\n",
       "      <td>0.513857</td>\n",
       "    </tr>\n",
       "    <tr>\n",
       "      <th>q10</th>\n",
       "      <td>0.265939</td>\n",
       "      <td>0.141965</td>\n",
       "      <td>0.348597</td>\n",
       "      <td>0.303224</td>\n",
       "      <td>0.513857</td>\n",
       "      <td>1.000000</td>\n",
       "    </tr>\n",
       "  </tbody>\n",
       "</table>\n",
       "</div>"
      ],
      "text/plain": [
       "           q5        q6        q7        q8        q9       q10\n",
       "q5   1.000000  0.304915  0.341523  0.278412  0.305720  0.265939\n",
       "q6   0.304915  1.000000  0.215954  0.203054  0.175718  0.141965\n",
       "q7   0.341523  0.215954  1.000000  0.313854  0.357293  0.348597\n",
       "q8   0.278412  0.203054  0.313854  1.000000  0.376264  0.303224\n",
       "q9   0.305720  0.175718  0.357293  0.376264  1.000000  0.513857\n",
       "q10  0.265939  0.141965  0.348597  0.303224  0.513857  1.000000"
      ]
     },
     "execution_count": 40,
     "metadata": {},
     "output_type": "execute_result"
    }
   ],
   "source": [
    "edudf.corr()"
   ]
  },
  {
   "cell_type": "code",
   "execution_count": 41,
   "metadata": {},
   "outputs": [
    {
     "name": "stdout",
     "output_type": "stream",
     "text": [
      "Multiple Comparison of Means - Tukey HSD,FWER=0.05\n",
      "=============================================\n",
      "group1 group2 meandiff  lower   upper  reject\n",
      "---------------------------------------------\n",
      " q10     q5   -0.0548  -0.2758  0.1661 False \n",
      " q10     q6   -0.6277  -0.8486 -0.4067  True \n",
      " q10     q7   -0.7029  -0.9239  -0.482  True \n",
      " q10     q8   -1.0319  -1.2529  -0.811  True \n",
      " q10     q9   -0.7103  -0.9312 -0.4894  True \n",
      "  q5     q6   -0.5728  -0.7938 -0.3519  True \n",
      "  q5     q7   -0.6481  -0.8691 -0.4272  True \n",
      "  q5     q8   -0.9771   -1.198 -0.7561  True \n",
      "  q5     q9   -0.6555  -0.8764 -0.4345  True \n",
      "  q6     q7   -0.0753  -0.2962  0.1457 False \n",
      "  q6     q8   -0.4043  -0.6252 -0.1833  True \n",
      "  q6     q9   -0.0827  -0.3036  0.1383 False \n",
      "  q7     q8    -0.329  -0.5499  -0.108  True \n",
      "  q7     q9   -0.0074  -0.2283  0.2136 False \n",
      "  q8     q9    0.3216   0.1007  0.5425  True \n",
      "---------------------------------------------\n"
     ]
    }
   ],
   "source": [
    "edunew = np.concatenate([df[i].values for i in groups['eduMajor']])\n",
    "labels = np.concatenate([[i] * len(df) for i in groups['eduMajor']])\n",
    "results = pairwise_tukeyhsd(edunew, labels, .05)\n",
    "print(results)"
   ]
  },
  {
   "cell_type": "code",
   "execution_count": 42,
   "metadata": {
    "scrolled": false
   },
   "outputs": [
    {
     "data": {
      "image/png": "[encoded data removed]",
      "text/plain": [
       "<matplotlib.figure.Figure at 0x11e1e7dd8>"
      ]
     },
     "metadata": {},
     "output_type": "display_data"
    }
   ],
   "source": [
    "plt.hist(df.q6, color='grey', alpha=.3)\n",
    "plt.hist(df.q7, color='coral', alpha=.3)\n",
    "plt.hist(df.q9, color='cyan', alpha=.3)\n",
    "plt.legend([ 'q6', 'q7', 'q9'], loc='upper left')\n",
    "plt.show()"
   ]
  },
  {
   "cell_type": "markdown",
   "metadata": {},
   "source": [
    "These three questions got similar responses. Interestingly, major isn't performing quite as expected, 9 or 10 scores aren't dominating the results."
   ]
  },
  {
   "cell_type": "code",
   "execution_count": 43,
   "metadata": {},
   "outputs": [
    {
     "data": {
      "image/png": "[encoded data removed]",
      "text/plain": [
       "<matplotlib.figure.Figure at 0x11e201438>"
      ]
     },
     "metadata": {},
     "output_type": "display_data"
    }
   ],
   "source": [
    "plt.hist(df.q8, color='orange', alpha=.3)\n",
    "plt.legend(['q8'], loc='upper left')\n",
    "plt.show()"
   ]
  },
  {
   "cell_type": "markdown",
   "metadata": {},
   "source": [
    "Q6 got a wider standard deviation, which means students are having quite different opinions in terms of whether to persue further education or not."
   ]
  },
  {
   "cell_type": "code",
   "execution_count": 44,
   "metadata": {},
   "outputs": [
    {
     "data": {
      "image/png": "[encoded data removed]",
      "text/plain": [
       "<matplotlib.figure.Figure at 0x11e071d68>"
      ]
     },
     "metadata": {},
     "output_type": "display_data"
    }
   ],
   "source": [
    "plt.hist(df.q5, color='green', alpha=.3)\n",
    "plt.hist(df.q10, color='orange', alpha=.3)\n",
    "plt.legend(['q5', 'q10'], loc='upper left')\n",
    "plt.show()"
   ]
  },
  {
   "cell_type": "markdown",
   "metadata": {},
   "source": [
    "These two are dominating the results with plenty of 10 scores."
   ]
  },
  {
   "cell_type": "code",
   "execution_count": 45,
   "metadata": {},
   "outputs": [],
   "source": [
    "eduMajor = pd.DataFrame(np.zeros((len(df), 3)), columns=['q50', 'q8', 'q679'])\n",
    "eduMajor.q50 = edudf[['q5', 'q10']].mean(axis=1)\n",
    "eduMajor.q8 = edudf.q8\n",
    "eduMajor.q679 = edudf[['q7', 'q6', 'q9']].mean(axis=1)"
   ]
  },
  {
   "cell_type": "code",
   "execution_count": 46,
   "metadata": {
    "scrolled": false
   },
   "outputs": [
    {
     "data": {
      "text/html": [
       "<div>\n",
       "<style scoped>\n",
       "    .dataframe tbody tr th:only-of-type {\n",
       "        vertical-align: middle;\n",
       "    }\n",
       "\n",
       "    .dataframe tbody tr th {\n",
       "        vertical-align: top;\n",
       "    }\n",
       "\n",
       "    .dataframe thead th {\n",
       "        text-align: right;\n",
       "    }\n",
       "</style>\n",
       "<table border=\"1\" class=\"dataframe\">\n",
       "  <thead>\n",
       "    <tr style=\"text-align: right;\">\n",
       "      <th></th>\n",
       "      <th>q50</th>\n",
       "      <th>q8</th>\n",
       "      <th>q679</th>\n",
       "    </tr>\n",
       "  </thead>\n",
       "  <tbody>\n",
       "    <tr>\n",
       "      <th>count</th>\n",
       "      <td>1222.000000</td>\n",
       "      <td>1222.000000</td>\n",
       "      <td>1222.000000</td>\n",
       "    </tr>\n",
       "    <tr>\n",
       "      <th>mean</th>\n",
       "      <td>7.458674</td>\n",
       "      <td>6.454173</td>\n",
       "      <td>6.805783</td>\n",
       "    </tr>\n",
       "    <tr>\n",
       "      <th>std</th>\n",
       "      <td>1.409620</td>\n",
       "      <td>1.870705</td>\n",
       "      <td>1.418748</td>\n",
       "    </tr>\n",
       "    <tr>\n",
       "      <th>min</th>\n",
       "      <td>1.000000</td>\n",
       "      <td>1.000000</td>\n",
       "      <td>1.000000</td>\n",
       "    </tr>\n",
       "    <tr>\n",
       "      <th>25%</th>\n",
       "      <td>6.500000</td>\n",
       "      <td>5.000000</td>\n",
       "      <td>6.000000</td>\n",
       "    </tr>\n",
       "    <tr>\n",
       "      <th>50%</th>\n",
       "      <td>7.500000</td>\n",
       "      <td>6.000000</td>\n",
       "      <td>6.666667</td>\n",
       "    </tr>\n",
       "    <tr>\n",
       "      <th>75%</th>\n",
       "      <td>8.500000</td>\n",
       "      <td>8.000000</td>\n",
       "      <td>7.666667</td>\n",
       "    </tr>\n",
       "    <tr>\n",
       "      <th>max</th>\n",
       "      <td>10.000000</td>\n",
       "      <td>10.000000</td>\n",
       "      <td>10.000000</td>\n",
       "    </tr>\n",
       "  </tbody>\n",
       "</table>\n",
       "</div>"
      ],
      "text/plain": [
       "               q50           q8         q679\n",
       "count  1222.000000  1222.000000  1222.000000\n",
       "mean      7.458674     6.454173     6.805783\n",
       "std       1.409620     1.870705     1.418748\n",
       "min       1.000000     1.000000     1.000000\n",
       "25%       6.500000     5.000000     6.000000\n",
       "50%       7.500000     6.000000     6.666667\n",
       "75%       8.500000     8.000000     7.666667\n",
       "max      10.000000    10.000000    10.000000"
      ]
     },
     "execution_count": 46,
     "metadata": {},
     "output_type": "execute_result"
    }
   ],
   "source": [
    "eduMajor.describe()"
   ]
  },
  {
   "cell_type": "code",
   "execution_count": 47,
   "metadata": {},
   "outputs": [
    {
     "data": {
      "text/html": [
       "<div>\n",
       "<style scoped>\n",
       "    .dataframe tbody tr th:only-of-type {\n",
       "        vertical-align: middle;\n",
       "    }\n",
       "\n",
       "    .dataframe tbody tr th {\n",
       "        vertical-align: top;\n",
       "    }\n",
       "\n",
       "    .dataframe thead th {\n",
       "        text-align: right;\n",
       "    }\n",
       "</style>\n",
       "<table border=\"1\" class=\"dataframe\">\n",
       "  <thead>\n",
       "    <tr style=\"text-align: right;\">\n",
       "      <th></th>\n",
       "      <th>q50</th>\n",
       "      <th>q8</th>\n",
       "      <th>q679</th>\n",
       "    </tr>\n",
       "  </thead>\n",
       "  <tbody>\n",
       "    <tr>\n",
       "      <th>q50</th>\n",
       "      <td>1.000000</td>\n",
       "      <td>0.365225</td>\n",
       "      <td>0.567676</td>\n",
       "    </tr>\n",
       "    <tr>\n",
       "      <th>q8</th>\n",
       "      <td>0.365225</td>\n",
       "      <td>1.000000</td>\n",
       "      <td>0.412307</td>\n",
       "    </tr>\n",
       "    <tr>\n",
       "      <th>q679</th>\n",
       "      <td>0.567676</td>\n",
       "      <td>0.412307</td>\n",
       "      <td>1.000000</td>\n",
       "    </tr>\n",
       "  </tbody>\n",
       "</table>\n",
       "</div>"
      ],
      "text/plain": [
       "           q50        q8      q679\n",
       "q50   1.000000  0.365225  0.567676\n",
       "q8    0.365225  1.000000  0.412307\n",
       "q679  0.567676  0.412307  1.000000"
      ]
     },
     "execution_count": 47,
     "metadata": {},
     "output_type": "execute_result"
    }
   ],
   "source": [
    "eduMajor.corr()"
   ]
  },
  {
   "cell_type": "code",
   "execution_count": 48,
   "metadata": {},
   "outputs": [],
   "source": [
    "eduMajor['q50679'] = (eduMajor.q50 + eduMajor.q679) /2\n",
    "eduMajor['edu'] = (eduMajor.q50679 + eduMajor.q8) / 2\n",
    "eduMajor = eduMajor.edu"
   ]
  },
  {
   "cell_type": "code",
   "execution_count": 49,
   "metadata": {
    "scrolled": true
   },
   "outputs": [
    {
     "data": {
      "text/html": [
       "<div>\n",
       "<style scoped>\n",
       "    .dataframe tbody tr th:only-of-type {\n",
       "        vertical-align: middle;\n",
       "    }\n",
       "\n",
       "    .dataframe tbody tr th {\n",
       "        vertical-align: top;\n",
       "    }\n",
       "\n",
       "    .dataframe thead th {\n",
       "        text-align: right;\n",
       "    }\n",
       "</style>\n",
       "<table border=\"1\" class=\"dataframe\">\n",
       "  <thead>\n",
       "    <tr style=\"text-align: right;\">\n",
       "      <th></th>\n",
       "      <th>q12</th>\n",
       "      <th>q13</th>\n",
       "      <th>q14</th>\n",
       "    </tr>\n",
       "  </thead>\n",
       "  <tbody>\n",
       "    <tr>\n",
       "      <th>count</th>\n",
       "      <td>1222.000000</td>\n",
       "      <td>1222.000000</td>\n",
       "      <td>1222.000000</td>\n",
       "    </tr>\n",
       "    <tr>\n",
       "      <th>mean</th>\n",
       "      <td>5.553191</td>\n",
       "      <td>5.762684</td>\n",
       "      <td>7.109656</td>\n",
       "    </tr>\n",
       "    <tr>\n",
       "      <th>std</th>\n",
       "      <td>2.573417</td>\n",
       "      <td>2.536737</td>\n",
       "      <td>1.883874</td>\n",
       "    </tr>\n",
       "    <tr>\n",
       "      <th>min</th>\n",
       "      <td>1.000000</td>\n",
       "      <td>1.000000</td>\n",
       "      <td>1.000000</td>\n",
       "    </tr>\n",
       "    <tr>\n",
       "      <th>25%</th>\n",
       "      <td>4.000000</td>\n",
       "      <td>4.000000</td>\n",
       "      <td>6.000000</td>\n",
       "    </tr>\n",
       "    <tr>\n",
       "      <th>50%</th>\n",
       "      <td>6.000000</td>\n",
       "      <td>6.000000</td>\n",
       "      <td>7.000000</td>\n",
       "    </tr>\n",
       "    <tr>\n",
       "      <th>75%</th>\n",
       "      <td>8.000000</td>\n",
       "      <td>8.000000</td>\n",
       "      <td>8.000000</td>\n",
       "    </tr>\n",
       "    <tr>\n",
       "      <th>max</th>\n",
       "      <td>10.000000</td>\n",
       "      <td>10.000000</td>\n",
       "      <td>10.000000</td>\n",
       "    </tr>\n",
       "  </tbody>\n",
       "</table>\n",
       "</div>"
      ],
      "text/plain": [
       "               q12          q13          q14\n",
       "count  1222.000000  1222.000000  1222.000000\n",
       "mean      5.553191     5.762684     7.109656\n",
       "std       2.573417     2.536737     1.883874\n",
       "min       1.000000     1.000000     1.000000\n",
       "25%       4.000000     4.000000     6.000000\n",
       "50%       6.000000     6.000000     7.000000\n",
       "75%       8.000000     8.000000     8.000000\n",
       "max      10.000000    10.000000    10.000000"
      ]
     },
     "execution_count": 49,
     "metadata": {},
     "output_type": "execute_result"
    }
   ],
   "source": [
    "# Now's the geo group.\n",
    "geodf = df[groups['geo']]\n",
    "geodf.describe()"
   ]
  },
  {
   "cell_type": "code",
   "execution_count": 50,
   "metadata": {},
   "outputs": [
    {
     "data": {
      "image/png": "[encoded data removed]",
      "text/plain": [
       "<matplotlib.figure.Figure at 0x11de01198>"
      ]
     },
     "metadata": {},
     "output_type": "display_data"
    }
   ],
   "source": [
    "plt.hist(df.q12, color='green', alpha=.3)\n",
    "plt.hist(df.q13, color='orange', alpha=.3)\n",
    "plt.hist(df.q14, color='grey', alpha=.3)\n",
    "plt.legend(['q12', 'q13', 'q14'], loc='upper left')\n",
    "plt.show()"
   ]
  },
  {
   "cell_type": "code",
   "execution_count": 51,
   "metadata": {
    "scrolled": false
   },
   "outputs": [
    {
     "data": {
      "text/html": [
       "<div>\n",
       "<style scoped>\n",
       "    .dataframe tbody tr th:only-of-type {\n",
       "        vertical-align: middle;\n",
       "    }\n",
       "\n",
       "    .dataframe tbody tr th {\n",
       "        vertical-align: top;\n",
       "    }\n",
       "\n",
       "    .dataframe thead th {\n",
       "        text-align: right;\n",
       "    }\n",
       "</style>\n",
       "<table border=\"1\" class=\"dataframe\">\n",
       "  <thead>\n",
       "    <tr style=\"text-align: right;\">\n",
       "      <th></th>\n",
       "      <th>q12</th>\n",
       "      <th>q13</th>\n",
       "      <th>q14</th>\n",
       "    </tr>\n",
       "  </thead>\n",
       "  <tbody>\n",
       "    <tr>\n",
       "      <th>q12</th>\n",
       "      <td>1.000000</td>\n",
       "      <td>-0.070078</td>\n",
       "      <td>0.026164</td>\n",
       "    </tr>\n",
       "    <tr>\n",
       "      <th>q13</th>\n",
       "      <td>-0.070078</td>\n",
       "      <td>1.000000</td>\n",
       "      <td>0.024644</td>\n",
       "    </tr>\n",
       "    <tr>\n",
       "      <th>q14</th>\n",
       "      <td>0.026164</td>\n",
       "      <td>0.024644</td>\n",
       "      <td>1.000000</td>\n",
       "    </tr>\n",
       "  </tbody>\n",
       "</table>\n",
       "</div>"
      ],
      "text/plain": [
       "          q12       q13       q14\n",
       "q12  1.000000 -0.070078  0.026164\n",
       "q13 -0.070078  1.000000  0.024644\n",
       "q14  0.026164  0.024644  1.000000"
      ]
     },
     "execution_count": 51,
     "metadata": {},
     "output_type": "execute_result"
    }
   ],
   "source": [
    "geodf.corr()"
   ]
  },
  {
   "cell_type": "code",
   "execution_count": 52,
   "metadata": {},
   "outputs": [
    {
     "name": "stdout",
     "output_type": "stream",
     "text": [
      "Multiple Comparison of Means - Tukey HSD,FWER=0.05\n",
      "============================================\n",
      "group1 group2 meandiff  lower  upper  reject\n",
      "--------------------------------------------\n",
      " q12    q13    0.2095  -0.0137 0.4327 False \n",
      " q12    q14    1.5565   1.3333 1.7796  True \n",
      " q13    q14    1.347    1.1238 1.5701  True \n",
      "--------------------------------------------\n"
     ]
    }
   ],
   "source": [
    "geonew = np.concatenate([df[i].values for i in groups['geo']])\n",
    "labels = np.concatenate([[i] * len(df) for i in groups['geo']])\n",
    "results = pairwise_tukeyhsd(geonew, labels, .05)\n",
    "print(results)"
   ]
  },
  {
   "cell_type": "code",
   "execution_count": 53,
   "metadata": {
    "scrolled": true
   },
   "outputs": [
    {
     "data": {
      "text/html": [
       "<div>\n",
       "<style scoped>\n",
       "    .dataframe tbody tr th:only-of-type {\n",
       "        vertical-align: middle;\n",
       "    }\n",
       "\n",
       "    .dataframe tbody tr th {\n",
       "        vertical-align: top;\n",
       "    }\n",
       "\n",
       "    .dataframe thead th {\n",
       "        text-align: right;\n",
       "    }\n",
       "</style>\n",
       "<table border=\"1\" class=\"dataframe\">\n",
       "  <thead>\n",
       "    <tr style=\"text-align: right;\">\n",
       "      <th></th>\n",
       "      <th>q123</th>\n",
       "      <th>q14</th>\n",
       "    </tr>\n",
       "  </thead>\n",
       "  <tbody>\n",
       "    <tr>\n",
       "      <th>count</th>\n",
       "      <td>1222.000000</td>\n",
       "      <td>1222.000000</td>\n",
       "    </tr>\n",
       "    <tr>\n",
       "      <th>mean</th>\n",
       "      <td>5.657938</td>\n",
       "      <td>7.109656</td>\n",
       "    </tr>\n",
       "    <tr>\n",
       "      <th>std</th>\n",
       "      <td>1.742309</td>\n",
       "      <td>1.883874</td>\n",
       "    </tr>\n",
       "    <tr>\n",
       "      <th>min</th>\n",
       "      <td>1.000000</td>\n",
       "      <td>1.000000</td>\n",
       "    </tr>\n",
       "    <tr>\n",
       "      <th>25%</th>\n",
       "      <td>4.500000</td>\n",
       "      <td>6.000000</td>\n",
       "    </tr>\n",
       "    <tr>\n",
       "      <th>50%</th>\n",
       "      <td>5.500000</td>\n",
       "      <td>7.000000</td>\n",
       "    </tr>\n",
       "    <tr>\n",
       "      <th>75%</th>\n",
       "      <td>6.875000</td>\n",
       "      <td>8.000000</td>\n",
       "    </tr>\n",
       "    <tr>\n",
       "      <th>max</th>\n",
       "      <td>10.000000</td>\n",
       "      <td>10.000000</td>\n",
       "    </tr>\n",
       "  </tbody>\n",
       "</table>\n",
       "</div>"
      ],
      "text/plain": [
       "              q123          q14\n",
       "count  1222.000000  1222.000000\n",
       "mean      5.657938     7.109656\n",
       "std       1.742309     1.883874\n",
       "min       1.000000     1.000000\n",
       "25%       4.500000     6.000000\n",
       "50%       5.500000     7.000000\n",
       "75%       6.875000     8.000000\n",
       "max      10.000000    10.000000"
      ]
     },
     "execution_count": 53,
     "metadata": {},
     "output_type": "execute_result"
    }
   ],
   "source": [
    "geo = pd.DataFrame(np.zeros((len(df), 2)), columns=['q123', 'q14'])\n",
    "geo.q123 = df[['q12', 'q13']].mean(axis=1)\n",
    "geo.q14 = df.q14\n",
    "geo.describe()"
   ]
  },
  {
   "cell_type": "code",
   "execution_count": 54,
   "metadata": {
    "scrolled": true
   },
   "outputs": [],
   "source": [
    "geo = geo.mean(axis=1)"
   ]
  },
  {
   "cell_type": "code",
   "execution_count": 55,
   "metadata": {
    "scrolled": true
   },
   "outputs": [
    {
     "data": {
      "text/html": [
       "<div>\n",
       "<style scoped>\n",
       "    .dataframe tbody tr th:only-of-type {\n",
       "        vertical-align: middle;\n",
       "    }\n",
       "\n",
       "    .dataframe tbody tr th {\n",
       "        vertical-align: top;\n",
       "    }\n",
       "\n",
       "    .dataframe thead th {\n",
       "        text-align: right;\n",
       "    }\n",
       "</style>\n",
       "<table border=\"1\" class=\"dataframe\">\n",
       "  <thead>\n",
       "    <tr style=\"text-align: right;\">\n",
       "      <th></th>\n",
       "      <th>q21</th>\n",
       "      <th>q22</th>\n",
       "    </tr>\n",
       "  </thead>\n",
       "  <tbody>\n",
       "    <tr>\n",
       "      <th>count</th>\n",
       "      <td>1222.000000</td>\n",
       "      <td>1222.000000</td>\n",
       "    </tr>\n",
       "    <tr>\n",
       "      <th>mean</th>\n",
       "      <td>6.401800</td>\n",
       "      <td>4.907529</td>\n",
       "    </tr>\n",
       "    <tr>\n",
       "      <th>std</th>\n",
       "      <td>2.014224</td>\n",
       "      <td>1.846384</td>\n",
       "    </tr>\n",
       "    <tr>\n",
       "      <th>min</th>\n",
       "      <td>1.000000</td>\n",
       "      <td>1.000000</td>\n",
       "    </tr>\n",
       "    <tr>\n",
       "      <th>25%</th>\n",
       "      <td>5.000000</td>\n",
       "      <td>4.000000</td>\n",
       "    </tr>\n",
       "    <tr>\n",
       "      <th>50%</th>\n",
       "      <td>6.000000</td>\n",
       "      <td>5.000000</td>\n",
       "    </tr>\n",
       "    <tr>\n",
       "      <th>75%</th>\n",
       "      <td>8.000000</td>\n",
       "      <td>6.000000</td>\n",
       "    </tr>\n",
       "    <tr>\n",
       "      <th>max</th>\n",
       "      <td>10.000000</td>\n",
       "      <td>10.000000</td>\n",
       "    </tr>\n",
       "  </tbody>\n",
       "</table>\n",
       "</div>"
      ],
      "text/plain": [
       "               q21          q22\n",
       "count  1222.000000  1222.000000\n",
       "mean      6.401800     4.907529\n",
       "std       2.014224     1.846384\n",
       "min       1.000000     1.000000\n",
       "25%       5.000000     4.000000\n",
       "50%       6.000000     5.000000\n",
       "75%       8.000000     6.000000\n",
       "max      10.000000    10.000000"
      ]
     },
     "execution_count": 55,
     "metadata": {},
     "output_type": "execute_result"
    }
   ],
   "source": [
    "# Next is the dropout factors.\n",
    "dropdf = df[groups['dropout']]\n",
    "dropdf.describe()"
   ]
  },
  {
   "cell_type": "code",
   "execution_count": 56,
   "metadata": {},
   "outputs": [
    {
     "data": {
      "image/png": "[encoded data removed]",
      "text/plain": [
       "<matplotlib.figure.Figure at 0x1174fc9e8>"
      ]
     },
     "metadata": {},
     "output_type": "display_data"
    }
   ],
   "source": [
    "plt.hist(df.q21, color='green', alpha=.3)\n",
    "plt.hist(df.q22, color='orange', alpha=.3)\n",
    "plt.legend(['q21', 'q22'], loc='upper left')\n",
    "plt.show()"
   ]
  },
  {
   "cell_type": "code",
   "execution_count": 57,
   "metadata": {
    "scrolled": true
   },
   "outputs": [
    {
     "data": {
      "text/html": [
       "<div>\n",
       "<style scoped>\n",
       "    .dataframe tbody tr th:only-of-type {\n",
       "        vertical-align: middle;\n",
       "    }\n",
       "\n",
       "    .dataframe tbody tr th {\n",
       "        vertical-align: top;\n",
       "    }\n",
       "\n",
       "    .dataframe thead th {\n",
       "        text-align: right;\n",
       "    }\n",
       "</style>\n",
       "<table border=\"1\" class=\"dataframe\">\n",
       "  <thead>\n",
       "    <tr style=\"text-align: right;\">\n",
       "      <th></th>\n",
       "      <th>q21</th>\n",
       "      <th>q22</th>\n",
       "    </tr>\n",
       "  </thead>\n",
       "  <tbody>\n",
       "    <tr>\n",
       "      <th>q21</th>\n",
       "      <td>1.000000</td>\n",
       "      <td>0.406173</td>\n",
       "    </tr>\n",
       "    <tr>\n",
       "      <th>q22</th>\n",
       "      <td>0.406173</td>\n",
       "      <td>1.000000</td>\n",
       "    </tr>\n",
       "  </tbody>\n",
       "</table>\n",
       "</div>"
      ],
      "text/plain": [
       "          q21       q22\n",
       "q21  1.000000  0.406173\n",
       "q22  0.406173  1.000000"
      ]
     },
     "execution_count": 57,
     "metadata": {},
     "output_type": "execute_result"
    }
   ],
   "source": [
    "dropdf.corr()"
   ]
  },
  {
   "cell_type": "code",
   "execution_count": 58,
   "metadata": {},
   "outputs": [
    {
     "name": "stdout",
     "output_type": "stream",
     "text": [
      "Multiple Comparison of Means - Tukey HSD,FWER=0.05\n",
      "============================================\n",
      "group1 group2 meandiff  lower  upper  reject\n",
      "--------------------------------------------\n",
      " q21    q22   -1.4943  -1.6475 -1.341  True \n",
      "--------------------------------------------\n"
     ]
    }
   ],
   "source": [
    "dropnew = np.concatenate([df[i].values for i in groups['dropout']])\n",
    "labels = np.concatenate([[i] * len(df) for i in groups['dropout']])\n",
    "results = pairwise_tukeyhsd(dropnew, labels, .05)\n",
    "print(results)"
   ]
  },
  {
   "cell_type": "code",
   "execution_count": 59,
   "metadata": {},
   "outputs": [],
   "source": [
    "dropout = dropdf.mean(axis=1)"
   ]
  },
  {
   "cell_type": "code",
   "execution_count": 60,
   "metadata": {
    "scrolled": true
   },
   "outputs": [
    {
     "data": {
      "text/html": [
       "<div>\n",
       "<style scoped>\n",
       "    .dataframe tbody tr th:only-of-type {\n",
       "        vertical-align: middle;\n",
       "    }\n",
       "\n",
       "    .dataframe tbody tr th {\n",
       "        vertical-align: top;\n",
       "    }\n",
       "\n",
       "    .dataframe thead th {\n",
       "        text-align: right;\n",
       "    }\n",
       "</style>\n",
       "<table border=\"1\" class=\"dataframe\">\n",
       "  <thead>\n",
       "    <tr style=\"text-align: right;\">\n",
       "      <th></th>\n",
       "      <th>q16</th>\n",
       "      <th>q17</th>\n",
       "      <th>q18</th>\n",
       "      <th>q28</th>\n",
       "    </tr>\n",
       "  </thead>\n",
       "  <tbody>\n",
       "    <tr>\n",
       "      <th>count</th>\n",
       "      <td>1222.000000</td>\n",
       "      <td>1222.000000</td>\n",
       "      <td>1222.000000</td>\n",
       "      <td>1222.000000</td>\n",
       "    </tr>\n",
       "    <tr>\n",
       "      <th>mean</th>\n",
       "      <td>6.693126</td>\n",
       "      <td>6.435352</td>\n",
       "      <td>6.719313</td>\n",
       "      <td>6.987725</td>\n",
       "    </tr>\n",
       "    <tr>\n",
       "      <th>std</th>\n",
       "      <td>1.849790</td>\n",
       "      <td>1.475543</td>\n",
       "      <td>1.567672</td>\n",
       "      <td>1.546658</td>\n",
       "    </tr>\n",
       "    <tr>\n",
       "      <th>min</th>\n",
       "      <td>1.000000</td>\n",
       "      <td>1.000000</td>\n",
       "      <td>1.000000</td>\n",
       "      <td>1.000000</td>\n",
       "    </tr>\n",
       "    <tr>\n",
       "      <th>25%</th>\n",
       "      <td>5.000000</td>\n",
       "      <td>5.000000</td>\n",
       "      <td>6.000000</td>\n",
       "      <td>6.000000</td>\n",
       "    </tr>\n",
       "    <tr>\n",
       "      <th>50%</th>\n",
       "      <td>7.000000</td>\n",
       "      <td>6.000000</td>\n",
       "      <td>7.000000</td>\n",
       "      <td>7.000000</td>\n",
       "    </tr>\n",
       "    <tr>\n",
       "      <th>75%</th>\n",
       "      <td>8.000000</td>\n",
       "      <td>7.000000</td>\n",
       "      <td>8.000000</td>\n",
       "      <td>8.000000</td>\n",
       "    </tr>\n",
       "    <tr>\n",
       "      <th>max</th>\n",
       "      <td>10.000000</td>\n",
       "      <td>10.000000</td>\n",
       "      <td>10.000000</td>\n",
       "      <td>10.000000</td>\n",
       "    </tr>\n",
       "  </tbody>\n",
       "</table>\n",
       "</div>"
      ],
      "text/plain": [
       "               q16          q17          q18          q28\n",
       "count  1222.000000  1222.000000  1222.000000  1222.000000\n",
       "mean      6.693126     6.435352     6.719313     6.987725\n",
       "std       1.849790     1.475543     1.567672     1.546658\n",
       "min       1.000000     1.000000     1.000000     1.000000\n",
       "25%       5.000000     5.000000     6.000000     6.000000\n",
       "50%       7.000000     6.000000     7.000000     7.000000\n",
       "75%       8.000000     7.000000     8.000000     8.000000\n",
       "max      10.000000    10.000000    10.000000    10.000000"
      ]
     },
     "execution_count": 60,
     "metadata": {},
     "output_type": "execute_result"
    }
   ],
   "source": [
    "# And the employer group\n",
    "empdf = df[groups['employer']]\n",
    "empdf.describe()"
   ]
  },
  {
   "cell_type": "code",
   "execution_count": 61,
   "metadata": {},
   "outputs": [
    {
     "data": {
      "image/png": "[encoded data removed]",
      "text/plain": [
       "<matplotlib.figure.Figure at 0x1174bf898>"
      ]
     },
     "metadata": {},
     "output_type": "display_data"
    }
   ],
   "source": [
    "plt.hist(df.q16, color='green', alpha=.3)\n",
    "plt.hist(df.q17, color='orange', alpha=.3)\n",
    "plt.hist(df.q18, color='grey', alpha=.3)\n",
    "plt.hist(df.q28, color='coral', alpha=.3)\n",
    "plt.legend(['q16', 'q17', 'q18', 'q28'], loc='upper left')\n",
    "plt.show()"
   ]
  },
  {
   "cell_type": "code",
   "execution_count": 62,
   "metadata": {},
   "outputs": [
    {
     "data": {
      "text/html": [
       "<div>\n",
       "<style scoped>\n",
       "    .dataframe tbody tr th:only-of-type {\n",
       "        vertical-align: middle;\n",
       "    }\n",
       "\n",
       "    .dataframe tbody tr th {\n",
       "        vertical-align: top;\n",
       "    }\n",
       "\n",
       "    .dataframe thead th {\n",
       "        text-align: right;\n",
       "    }\n",
       "</style>\n",
       "<table border=\"1\" class=\"dataframe\">\n",
       "  <thead>\n",
       "    <tr style=\"text-align: right;\">\n",
       "      <th></th>\n",
       "      <th>q16</th>\n",
       "      <th>q17</th>\n",
       "      <th>q18</th>\n",
       "      <th>q28</th>\n",
       "    </tr>\n",
       "  </thead>\n",
       "  <tbody>\n",
       "    <tr>\n",
       "      <th>q16</th>\n",
       "      <td>1.000000</td>\n",
       "      <td>0.273433</td>\n",
       "      <td>0.358892</td>\n",
       "      <td>0.065954</td>\n",
       "    </tr>\n",
       "    <tr>\n",
       "      <th>q17</th>\n",
       "      <td>0.273433</td>\n",
       "      <td>1.000000</td>\n",
       "      <td>0.577588</td>\n",
       "      <td>0.288723</td>\n",
       "    </tr>\n",
       "    <tr>\n",
       "      <th>q18</th>\n",
       "      <td>0.358892</td>\n",
       "      <td>0.577588</td>\n",
       "      <td>1.000000</td>\n",
       "      <td>0.304269</td>\n",
       "    </tr>\n",
       "    <tr>\n",
       "      <th>q28</th>\n",
       "      <td>0.065954</td>\n",
       "      <td>0.288723</td>\n",
       "      <td>0.304269</td>\n",
       "      <td>1.000000</td>\n",
       "    </tr>\n",
       "  </tbody>\n",
       "</table>\n",
       "</div>"
      ],
      "text/plain": [
       "          q16       q17       q18       q28\n",
       "q16  1.000000  0.273433  0.358892  0.065954\n",
       "q17  0.273433  1.000000  0.577588  0.288723\n",
       "q18  0.358892  0.577588  1.000000  0.304269\n",
       "q28  0.065954  0.288723  0.304269  1.000000"
      ]
     },
     "execution_count": 62,
     "metadata": {},
     "output_type": "execute_result"
    }
   ],
   "source": [
    "empdf.corr()"
   ]
  },
  {
   "cell_type": "code",
   "execution_count": 63,
   "metadata": {},
   "outputs": [
    {
     "name": "stdout",
     "output_type": "stream",
     "text": [
      "Multiple Comparison of Means - Tukey HSD,FWER=0.05\n",
      "=============================================\n",
      "group1 group2 meandiff  lower   upper  reject\n",
      "---------------------------------------------\n",
      " q16    q17   -0.2578  -0.4258 -0.0897  True \n",
      " q16    q18    0.0262  -0.1418  0.1942 False \n",
      " q16    q28    0.2946   0.1266  0.4626  True \n",
      " q17    q18    0.284    0.1159  0.452   True \n",
      " q17    q28    0.5524   0.3843  0.7204  True \n",
      " q18    q28    0.2684   0.1004  0.4364  True \n",
      "---------------------------------------------\n"
     ]
    }
   ],
   "source": [
    "empnew = np.concatenate([df[i].values for i in groups['employer']])\n",
    "labels = np.concatenate([[i] * len(df) for i in groups['employer']])\n",
    "results = pairwise_tukeyhsd(empnew, labels, .05)\n",
    "print(results)"
   ]
  },
  {
   "cell_type": "code",
   "execution_count": 64,
   "metadata": {},
   "outputs": [
    {
     "data": {
      "text/html": [
       "<div>\n",
       "<style scoped>\n",
       "    .dataframe tbody tr th:only-of-type {\n",
       "        vertical-align: middle;\n",
       "    }\n",
       "\n",
       "    .dataframe tbody tr th {\n",
       "        vertical-align: top;\n",
       "    }\n",
       "\n",
       "    .dataframe thead th {\n",
       "        text-align: right;\n",
       "    }\n",
       "</style>\n",
       "<table border=\"1\" class=\"dataframe\">\n",
       "  <thead>\n",
       "    <tr style=\"text-align: right;\">\n",
       "      <th></th>\n",
       "      <th>q168</th>\n",
       "      <th>q17</th>\n",
       "      <th>q28</th>\n",
       "    </tr>\n",
       "  </thead>\n",
       "  <tbody>\n",
       "    <tr>\n",
       "      <th>q168</th>\n",
       "      <td>1.000000</td>\n",
       "      <td>0.500184</td>\n",
       "      <td>0.212298</td>\n",
       "    </tr>\n",
       "    <tr>\n",
       "      <th>q17</th>\n",
       "      <td>0.500184</td>\n",
       "      <td>1.000000</td>\n",
       "      <td>0.288723</td>\n",
       "    </tr>\n",
       "    <tr>\n",
       "      <th>q28</th>\n",
       "      <td>0.212298</td>\n",
       "      <td>0.288723</td>\n",
       "      <td>1.000000</td>\n",
       "    </tr>\n",
       "  </tbody>\n",
       "</table>\n",
       "</div>"
      ],
      "text/plain": [
       "          q168       q17       q28\n",
       "q168  1.000000  0.500184  0.212298\n",
       "q17   0.500184  1.000000  0.288723\n",
       "q28   0.212298  0.288723  1.000000"
      ]
     },
     "execution_count": 64,
     "metadata": {},
     "output_type": "execute_result"
    }
   ],
   "source": [
    "employer = pd.DataFrame(np.zeros((len(df), 3)), columns=['q168', 'q17', 'q28'])\n",
    "employer.q168 = (empdf.q16 + empdf.q18) / 2\n",
    "employer.q17 = df.q17\n",
    "employer.q28 = df.q28\n",
    "employer.corr()"
   ]
  },
  {
   "cell_type": "code",
   "execution_count": 65,
   "metadata": {},
   "outputs": [],
   "source": [
    "employer['q1678'] = (employer.q168 + employer.q17) / 2\n",
    "employer = (employer.q1678 + employer.q28) / 2"
   ]
  },
  {
   "cell_type": "code",
   "execution_count": 66,
   "metadata": {
    "scrolled": false
   },
   "outputs": [
    {
     "data": {
      "text/html": [
       "<div>\n",
       "<style scoped>\n",
       "    .dataframe tbody tr th:only-of-type {\n",
       "        vertical-align: middle;\n",
       "    }\n",
       "\n",
       "    .dataframe tbody tr th {\n",
       "        vertical-align: top;\n",
       "    }\n",
       "\n",
       "    .dataframe thead th {\n",
       "        text-align: right;\n",
       "    }\n",
       "</style>\n",
       "<table border=\"1\" class=\"dataframe\">\n",
       "  <thead>\n",
       "    <tr style=\"text-align: right;\">\n",
       "      <th></th>\n",
       "      <th>q23</th>\n",
       "      <th>q24</th>\n",
       "      <th>q25</th>\n",
       "    </tr>\n",
       "  </thead>\n",
       "  <tbody>\n",
       "    <tr>\n",
       "      <th>count</th>\n",
       "      <td>1222.000000</td>\n",
       "      <td>1222.000000</td>\n",
       "      <td>1222.000000</td>\n",
       "    </tr>\n",
       "    <tr>\n",
       "      <th>mean</th>\n",
       "      <td>5.774959</td>\n",
       "      <td>5.255319</td>\n",
       "      <td>5.100655</td>\n",
       "    </tr>\n",
       "    <tr>\n",
       "      <th>std</th>\n",
       "      <td>1.859327</td>\n",
       "      <td>1.880183</td>\n",
       "      <td>2.141325</td>\n",
       "    </tr>\n",
       "    <tr>\n",
       "      <th>min</th>\n",
       "      <td>1.000000</td>\n",
       "      <td>1.000000</td>\n",
       "      <td>1.000000</td>\n",
       "    </tr>\n",
       "    <tr>\n",
       "      <th>25%</th>\n",
       "      <td>5.000000</td>\n",
       "      <td>4.000000</td>\n",
       "      <td>4.000000</td>\n",
       "    </tr>\n",
       "    <tr>\n",
       "      <th>50%</th>\n",
       "      <td>6.000000</td>\n",
       "      <td>5.000000</td>\n",
       "      <td>5.000000</td>\n",
       "    </tr>\n",
       "    <tr>\n",
       "      <th>75%</th>\n",
       "      <td>7.000000</td>\n",
       "      <td>6.000000</td>\n",
       "      <td>6.000000</td>\n",
       "    </tr>\n",
       "    <tr>\n",
       "      <th>max</th>\n",
       "      <td>10.000000</td>\n",
       "      <td>10.000000</td>\n",
       "      <td>10.000000</td>\n",
       "    </tr>\n",
       "  </tbody>\n",
       "</table>\n",
       "</div>"
      ],
      "text/plain": [
       "               q23          q24          q25\n",
       "count  1222.000000  1222.000000  1222.000000\n",
       "mean      5.774959     5.255319     5.100655\n",
       "std       1.859327     1.880183     2.141325\n",
       "min       1.000000     1.000000     1.000000\n",
       "25%       5.000000     4.000000     4.000000\n",
       "50%       6.000000     5.000000     5.000000\n",
       "75%       7.000000     6.000000     6.000000\n",
       "max      10.000000    10.000000    10.000000"
      ]
     },
     "execution_count": 66,
     "metadata": {},
     "output_type": "execute_result"
    }
   ],
   "source": [
    "# Influencers\n",
    "infdf = df[groups['influencers']]\n",
    "infdf.describe()"
   ]
  },
  {
   "cell_type": "code",
   "execution_count": 67,
   "metadata": {},
   "outputs": [
    {
     "data": {
      "image/png": "[encoded data removed]",
      "text/plain": [
       "<matplotlib.figure.Figure at 0x11e0ae978>"
      ]
     },
     "metadata": {},
     "output_type": "display_data"
    }
   ],
   "source": [
    "plt.hist(df.q23, color='green', alpha=.3)\n",
    "plt.hist(df.q24, color='orange', alpha=.3)\n",
    "plt.hist(df.q25, color='grey', alpha=.3)\n",
    "plt.legend(['q23', 'q24', 'q25'], loc='upper left')\n",
    "plt.show()"
   ]
  },
  {
   "cell_type": "code",
   "execution_count": 68,
   "metadata": {
    "scrolled": false
   },
   "outputs": [
    {
     "data": {
      "text/html": [
       "<div>\n",
       "<style scoped>\n",
       "    .dataframe tbody tr th:only-of-type {\n",
       "        vertical-align: middle;\n",
       "    }\n",
       "\n",
       "    .dataframe tbody tr th {\n",
       "        vertical-align: top;\n",
       "    }\n",
       "\n",
       "    .dataframe thead th {\n",
       "        text-align: right;\n",
       "    }\n",
       "</style>\n",
       "<table border=\"1\" class=\"dataframe\">\n",
       "  <thead>\n",
       "    <tr style=\"text-align: right;\">\n",
       "      <th></th>\n",
       "      <th>q23</th>\n",
       "      <th>q24</th>\n",
       "      <th>q25</th>\n",
       "    </tr>\n",
       "  </thead>\n",
       "  <tbody>\n",
       "    <tr>\n",
       "      <th>q23</th>\n",
       "      <td>1.000000</td>\n",
       "      <td>0.518035</td>\n",
       "      <td>0.257478</td>\n",
       "    </tr>\n",
       "    <tr>\n",
       "      <th>q24</th>\n",
       "      <td>0.518035</td>\n",
       "      <td>1.000000</td>\n",
       "      <td>0.357740</td>\n",
       "    </tr>\n",
       "    <tr>\n",
       "      <th>q25</th>\n",
       "      <td>0.257478</td>\n",
       "      <td>0.357740</td>\n",
       "      <td>1.000000</td>\n",
       "    </tr>\n",
       "  </tbody>\n",
       "</table>\n",
       "</div>"
      ],
      "text/plain": [
       "          q23       q24       q25\n",
       "q23  1.000000  0.518035  0.257478\n",
       "q24  0.518035  1.000000  0.357740\n",
       "q25  0.257478  0.357740  1.000000"
      ]
     },
     "execution_count": 68,
     "metadata": {},
     "output_type": "execute_result"
    }
   ],
   "source": [
    "infdf.corr()"
   ]
  },
  {
   "cell_type": "code",
   "execution_count": 69,
   "metadata": {},
   "outputs": [
    {
     "name": "stdout",
     "output_type": "stream",
     "text": [
      "Multiple Comparison of Means - Tukey HSD,FWER=0.05\n",
      "=============================================\n",
      "group1 group2 meandiff  lower   upper  reject\n",
      "---------------------------------------------\n",
      " q23    q24   -0.5196   -0.706 -0.3333  True \n",
      " q23    q25   -0.6743  -0.8606  -0.488  True \n",
      " q24    q25   -0.1547   -0.341  0.0317 False \n",
      "---------------------------------------------\n"
     ]
    }
   ],
   "source": [
    "infnew = np.concatenate([df[i].values for i in groups['influencers']])\n",
    "labels = np.concatenate([[i] * len(df) for i in groups['influencers']])\n",
    "results = pairwise_tukeyhsd(infnew, labels, .05)\n",
    "print(results)"
   ]
  },
  {
   "cell_type": "code",
   "execution_count": 93,
   "metadata": {},
   "outputs": [],
   "source": [
    "influencers = pd.DataFrame(np.zeros((len(df), 2)), columns=['q23', 'q245'])\n",
    "influencers.q23 = infdf.q23\n",
    "influencers.q245 = (infdf.q25 + infdf.q24) / 2\n",
    "influencers = (influencers.q23 + influencers.q245) / 2"
   ]
  },
  {
   "cell_type": "code",
   "execution_count": 71,
   "metadata": {
    "scrolled": true
   },
   "outputs": [
    {
     "data": {
      "text/html": [
       "<div>\n",
       "<style scoped>\n",
       "    .dataframe tbody tr th:only-of-type {\n",
       "        vertical-align: middle;\n",
       "    }\n",
       "\n",
       "    .dataframe tbody tr th {\n",
       "        vertical-align: top;\n",
       "    }\n",
       "\n",
       "    .dataframe thead th {\n",
       "        text-align: right;\n",
       "    }\n",
       "</style>\n",
       "<table border=\"1\" class=\"dataframe\">\n",
       "  <thead>\n",
       "    <tr style=\"text-align: right;\">\n",
       "      <th></th>\n",
       "      <th>q26</th>\n",
       "      <th>q27</th>\n",
       "      <th>q29</th>\n",
       "    </tr>\n",
       "  </thead>\n",
       "  <tbody>\n",
       "    <tr>\n",
       "      <th>count</th>\n",
       "      <td>1222.00000</td>\n",
       "      <td>1222.000000</td>\n",
       "      <td>1222.000000</td>\n",
       "    </tr>\n",
       "    <tr>\n",
       "      <th>mean</th>\n",
       "      <td>6.43126</td>\n",
       "      <td>5.854337</td>\n",
       "      <td>5.864157</td>\n",
       "    </tr>\n",
       "    <tr>\n",
       "      <th>std</th>\n",
       "      <td>1.73175</td>\n",
       "      <td>1.538496</td>\n",
       "      <td>1.752838</td>\n",
       "    </tr>\n",
       "    <tr>\n",
       "      <th>min</th>\n",
       "      <td>1.00000</td>\n",
       "      <td>1.000000</td>\n",
       "      <td>1.000000</td>\n",
       "    </tr>\n",
       "    <tr>\n",
       "      <th>25%</th>\n",
       "      <td>5.00000</td>\n",
       "      <td>5.000000</td>\n",
       "      <td>5.000000</td>\n",
       "    </tr>\n",
       "    <tr>\n",
       "      <th>50%</th>\n",
       "      <td>6.00000</td>\n",
       "      <td>6.000000</td>\n",
       "      <td>6.000000</td>\n",
       "    </tr>\n",
       "    <tr>\n",
       "      <th>75%</th>\n",
       "      <td>8.00000</td>\n",
       "      <td>7.000000</td>\n",
       "      <td>7.000000</td>\n",
       "    </tr>\n",
       "    <tr>\n",
       "      <th>max</th>\n",
       "      <td>10.00000</td>\n",
       "      <td>10.000000</td>\n",
       "      <td>10.000000</td>\n",
       "    </tr>\n",
       "  </tbody>\n",
       "</table>\n",
       "</div>"
      ],
      "text/plain": [
       "              q26          q27          q29\n",
       "count  1222.00000  1222.000000  1222.000000\n",
       "mean      6.43126     5.854337     5.864157\n",
       "std       1.73175     1.538496     1.752838\n",
       "min       1.00000     1.000000     1.000000\n",
       "25%       5.00000     5.000000     5.000000\n",
       "50%       6.00000     6.000000     6.000000\n",
       "75%       8.00000     7.000000     7.000000\n",
       "max      10.00000    10.000000    10.000000"
      ]
     },
     "execution_count": 71,
     "metadata": {},
     "output_type": "execute_result"
    }
   ],
   "source": [
    "# Self Awareness\n",
    "sadf = df[groups['selfAwareness']]\n",
    "sadf.describe()"
   ]
  },
  {
   "cell_type": "code",
   "execution_count": 72,
   "metadata": {},
   "outputs": [
    {
     "data": {
      "image/png": "[encoded data removed]",
      "text/plain": [
       "<matplotlib.figure.Figure at 0x11e2bf9b0>"
      ]
     },
     "metadata": {},
     "output_type": "display_data"
    }
   ],
   "source": [
    "plt.hist(df.q26, color='green', alpha=.3)\n",
    "plt.hist(df.q27, color='orange', alpha=.3)\n",
    "plt.hist(df.q29, color='grey', alpha=.3)\n",
    "plt.legend(['q26', 'q27', 'q29'], loc='upper left')\n",
    "plt.show()"
   ]
  },
  {
   "cell_type": "code",
   "execution_count": 73,
   "metadata": {},
   "outputs": [
    {
     "data": {
      "text/html": [
       "<div>\n",
       "<style scoped>\n",
       "    .dataframe tbody tr th:only-of-type {\n",
       "        vertical-align: middle;\n",
       "    }\n",
       "\n",
       "    .dataframe tbody tr th {\n",
       "        vertical-align: top;\n",
       "    }\n",
       "\n",
       "    .dataframe thead th {\n",
       "        text-align: right;\n",
       "    }\n",
       "</style>\n",
       "<table border=\"1\" class=\"dataframe\">\n",
       "  <thead>\n",
       "    <tr style=\"text-align: right;\">\n",
       "      <th></th>\n",
       "      <th>q26</th>\n",
       "      <th>q27</th>\n",
       "      <th>q29</th>\n",
       "    </tr>\n",
       "  </thead>\n",
       "  <tbody>\n",
       "    <tr>\n",
       "      <th>q26</th>\n",
       "      <td>1.000000</td>\n",
       "      <td>0.554476</td>\n",
       "      <td>0.417824</td>\n",
       "    </tr>\n",
       "    <tr>\n",
       "      <th>q27</th>\n",
       "      <td>0.554476</td>\n",
       "      <td>1.000000</td>\n",
       "      <td>0.552985</td>\n",
       "    </tr>\n",
       "    <tr>\n",
       "      <th>q29</th>\n",
       "      <td>0.417824</td>\n",
       "      <td>0.552985</td>\n",
       "      <td>1.000000</td>\n",
       "    </tr>\n",
       "  </tbody>\n",
       "</table>\n",
       "</div>"
      ],
      "text/plain": [
       "          q26       q27       q29\n",
       "q26  1.000000  0.554476  0.417824\n",
       "q27  0.554476  1.000000  0.552985\n",
       "q29  0.417824  0.552985  1.000000"
      ]
     },
     "execution_count": 73,
     "metadata": {},
     "output_type": "execute_result"
    }
   ],
   "source": [
    "sadf.corr()"
   ]
  },
  {
   "cell_type": "code",
   "execution_count": 74,
   "metadata": {},
   "outputs": [
    {
     "name": "stdout",
     "output_type": "stream",
     "text": [
      "Multiple Comparison of Means - Tukey HSD,FWER=0.05\n",
      "=============================================\n",
      "group1 group2 meandiff  lower   upper  reject\n",
      "---------------------------------------------\n",
      " q26    q27   -0.5769   -0.736 -0.4178  True \n",
      " q26    q29   -0.5671  -0.7262  -0.408  True \n",
      " q27    q29    0.0098  -0.1493  0.1689 False \n",
      "---------------------------------------------\n"
     ]
    }
   ],
   "source": [
    "selfnew = np.concatenate([df[i].values for i in groups['selfAwareness']])\n",
    "labels = np.concatenate([[i] * len(df) for i in groups['selfAwareness']])\n",
    "results = pairwise_tukeyhsd(selfnew, labels, .05)\n",
    "print(results)"
   ]
  },
  {
   "cell_type": "code",
   "execution_count": 75,
   "metadata": {
    "scrolled": true
   },
   "outputs": [
    {
     "data": {
      "text/html": [
       "<div>\n",
       "<style scoped>\n",
       "    .dataframe tbody tr th:only-of-type {\n",
       "        vertical-align: middle;\n",
       "    }\n",
       "\n",
       "    .dataframe tbody tr th {\n",
       "        vertical-align: top;\n",
       "    }\n",
       "\n",
       "    .dataframe thead th {\n",
       "        text-align: right;\n",
       "    }\n",
       "</style>\n",
       "<table border=\"1\" class=\"dataframe\">\n",
       "  <thead>\n",
       "    <tr style=\"text-align: right;\">\n",
       "      <th></th>\n",
       "      <th>q26</th>\n",
       "      <th>q279</th>\n",
       "    </tr>\n",
       "  </thead>\n",
       "  <tbody>\n",
       "    <tr>\n",
       "      <th>count</th>\n",
       "      <td>1222.00000</td>\n",
       "      <td>1222.000000</td>\n",
       "    </tr>\n",
       "    <tr>\n",
       "      <th>mean</th>\n",
       "      <td>6.43126</td>\n",
       "      <td>5.859247</td>\n",
       "    </tr>\n",
       "    <tr>\n",
       "      <th>std</th>\n",
       "      <td>1.73175</td>\n",
       "      <td>1.451027</td>\n",
       "    </tr>\n",
       "    <tr>\n",
       "      <th>min</th>\n",
       "      <td>1.00000</td>\n",
       "      <td>1.000000</td>\n",
       "    </tr>\n",
       "    <tr>\n",
       "      <th>25%</th>\n",
       "      <td>5.00000</td>\n",
       "      <td>5.000000</td>\n",
       "    </tr>\n",
       "    <tr>\n",
       "      <th>50%</th>\n",
       "      <td>6.00000</td>\n",
       "      <td>6.000000</td>\n",
       "    </tr>\n",
       "    <tr>\n",
       "      <th>75%</th>\n",
       "      <td>8.00000</td>\n",
       "      <td>7.000000</td>\n",
       "    </tr>\n",
       "    <tr>\n",
       "      <th>max</th>\n",
       "      <td>10.00000</td>\n",
       "      <td>10.000000</td>\n",
       "    </tr>\n",
       "  </tbody>\n",
       "</table>\n",
       "</div>"
      ],
      "text/plain": [
       "              q26         q279\n",
       "count  1222.00000  1222.000000\n",
       "mean      6.43126     5.859247\n",
       "std       1.73175     1.451027\n",
       "min       1.00000     1.000000\n",
       "25%       5.00000     5.000000\n",
       "50%       6.00000     6.000000\n",
       "75%       8.00000     7.000000\n",
       "max      10.00000    10.000000"
      ]
     },
     "execution_count": 75,
     "metadata": {},
     "output_type": "execute_result"
    }
   ],
   "source": [
    "selfAwareness = pd.DataFrame(np.zeros((len(df), 2)), columns=['q26', 'q279'])\n",
    "selfAwareness.q26 = df.q26\n",
    "selfAwareness.q279 = df[['q27', 'q29']].mean(axis=1)\n",
    "selfAwareness.describe()"
   ]
  },
  {
   "cell_type": "code",
   "execution_count": 76,
   "metadata": {},
   "outputs": [
    {
     "data": {
      "text/html": [
       "<div>\n",
       "<style scoped>\n",
       "    .dataframe tbody tr th:only-of-type {\n",
       "        vertical-align: middle;\n",
       "    }\n",
       "\n",
       "    .dataframe tbody tr th {\n",
       "        vertical-align: top;\n",
       "    }\n",
       "\n",
       "    .dataframe thead th {\n",
       "        text-align: right;\n",
       "    }\n",
       "</style>\n",
       "<table border=\"1\" class=\"dataframe\">\n",
       "  <thead>\n",
       "    <tr style=\"text-align: right;\">\n",
       "      <th></th>\n",
       "      <th>q26</th>\n",
       "      <th>q279</th>\n",
       "    </tr>\n",
       "  </thead>\n",
       "  <tbody>\n",
       "    <tr>\n",
       "      <th>q26</th>\n",
       "      <td>1.000000</td>\n",
       "      <td>0.546316</td>\n",
       "    </tr>\n",
       "    <tr>\n",
       "      <th>q279</th>\n",
       "      <td>0.546316</td>\n",
       "      <td>1.000000</td>\n",
       "    </tr>\n",
       "  </tbody>\n",
       "</table>\n",
       "</div>"
      ],
      "text/plain": [
       "           q26      q279\n",
       "q26   1.000000  0.546316\n",
       "q279  0.546316  1.000000"
      ]
     },
     "execution_count": 76,
     "metadata": {},
     "output_type": "execute_result"
    }
   ],
   "source": [
    "selfAwareness.corr()"
   ]
  },
  {
   "cell_type": "code",
   "execution_count": 77,
   "metadata": {},
   "outputs": [],
   "source": [
    "selfAwareness = selfAwareness.mean(axis=1)"
   ]
  },
  {
   "cell_type": "code",
   "execution_count": 78,
   "metadata": {},
   "outputs": [
    {
     "data": {
      "text/plain": [
       "count    1222.00000\n",
       "mean        5.61784\n",
       "std         2.07369\n",
       "min         1.00000\n",
       "25%         4.00000\n",
       "50%         6.00000\n",
       "75%         7.00000\n",
       "max        10.00000\n",
       "Name: q30, dtype: float64"
      ]
     },
     "execution_count": 78,
     "metadata": {},
     "output_type": "execute_result"
    }
   ],
   "source": [
    "# Finally the selfEmployed group\n",
    "df.q30.describe()"
   ]
  },
  {
   "cell_type": "code",
   "execution_count": 79,
   "metadata": {
    "scrolled": true
   },
   "outputs": [
    {
     "data": {
      "text/plain": [
       "1     0.036825\n",
       "2     0.031915\n",
       "3     0.084288\n",
       "4     0.113748\n",
       "5     0.228314\n",
       "6     0.172668\n",
       "7     0.144026\n",
       "8     0.112111\n",
       "9     0.034370\n",
       "10    0.041735\n",
       "Name: q30, dtype: float64"
      ]
     },
     "execution_count": 79,
     "metadata": {},
     "output_type": "execute_result"
    }
   ],
   "source": [
    "df.q30.value_counts(normalize=True, sort=False)"
   ]
  },
  {
   "cell_type": "code",
   "execution_count": 80,
   "metadata": {},
   "outputs": [],
   "source": [
    "selfEmployed = df.q30"
   ]
  },
  {
   "cell_type": "code",
   "execution_count": 81,
   "metadata": {},
   "outputs": [
    {
     "data": {
      "text/plain": [
       "{'basicInfo': ['q1', 'q2', 'q3', 'q4'],\n",
       " 'coreFactors': ['q11', 'q15', 'q19', 'q20'],\n",
       " 'dropout': ['q21', 'q22'],\n",
       " 'eduMajor': ['q5', 'q6', 'q7', 'q8', 'q9', 'q10'],\n",
       " 'employer': ['q16', 'q17', 'q18', 'q28'],\n",
       " 'geo': ['q12', 'q13', 'q14'],\n",
       " 'influencers': ['q23', 'q24', 'q25'],\n",
       " 'selfAwareness': ['q26', 'q27', 'q29'],\n",
       " 'selfEmployed': ['q30']}"
      ]
     },
     "execution_count": 81,
     "metadata": {},
     "output_type": "execute_result"
    }
   ],
   "source": [
    "groups"
   ]
  },
  {
   "cell_type": "code",
   "execution_count": 94,
   "metadata": {},
   "outputs": [
    {
     "data": {
      "text/html": [
       "<div>\n",
       "<style scoped>\n",
       "    .dataframe tbody tr th:only-of-type {\n",
       "        vertical-align: middle;\n",
       "    }\n",
       "\n",
       "    .dataframe tbody tr th {\n",
       "        vertical-align: top;\n",
       "    }\n",
       "\n",
       "    .dataframe thead th {\n",
       "        text-align: right;\n",
       "    }\n",
       "</style>\n",
       "<table border=\"1\" class=\"dataframe\">\n",
       "  <thead>\n",
       "    <tr style=\"text-align: right;\">\n",
       "      <th></th>\n",
       "      <th>core</th>\n",
       "      <th>edu</th>\n",
       "      <th>geo</th>\n",
       "      <th>emplr</th>\n",
       "      <th>dropout</th>\n",
       "      <th>inflr</th>\n",
       "      <th>selfA</th>\n",
       "      <th>selfE</th>\n",
       "    </tr>\n",
       "  </thead>\n",
       "  <tbody>\n",
       "    <tr>\n",
       "      <th>0</th>\n",
       "      <td>7.375</td>\n",
       "      <td>6.958333</td>\n",
       "      <td>6.50</td>\n",
       "      <td>8.750</td>\n",
       "      <td>5.5</td>\n",
       "      <td>6.25</td>\n",
       "      <td>7.00</td>\n",
       "      <td>7</td>\n",
       "    </tr>\n",
       "    <tr>\n",
       "      <th>1</th>\n",
       "      <td>6.375</td>\n",
       "      <td>5.916667</td>\n",
       "      <td>4.00</td>\n",
       "      <td>5.500</td>\n",
       "      <td>5.0</td>\n",
       "      <td>3.50</td>\n",
       "      <td>4.25</td>\n",
       "      <td>1</td>\n",
       "    </tr>\n",
       "    <tr>\n",
       "      <th>2</th>\n",
       "      <td>9.875</td>\n",
       "      <td>8.958333</td>\n",
       "      <td>7.50</td>\n",
       "      <td>8.000</td>\n",
       "      <td>6.5</td>\n",
       "      <td>5.75</td>\n",
       "      <td>7.25</td>\n",
       "      <td>7</td>\n",
       "    </tr>\n",
       "    <tr>\n",
       "      <th>3</th>\n",
       "      <td>6.750</td>\n",
       "      <td>5.166667</td>\n",
       "      <td>7.25</td>\n",
       "      <td>5.500</td>\n",
       "      <td>7.0</td>\n",
       "      <td>5.25</td>\n",
       "      <td>4.75</td>\n",
       "      <td>4</td>\n",
       "    </tr>\n",
       "    <tr>\n",
       "      <th>4</th>\n",
       "      <td>7.750</td>\n",
       "      <td>7.541667</td>\n",
       "      <td>6.50</td>\n",
       "      <td>6.875</td>\n",
       "      <td>6.0</td>\n",
       "      <td>5.25</td>\n",
       "      <td>5.75</td>\n",
       "      <td>5</td>\n",
       "    </tr>\n",
       "  </tbody>\n",
       "</table>\n",
       "</div>"
      ],
      "text/plain": [
       "    core       edu   geo  emplr  dropout  inflr  selfA  selfE\n",
       "0  7.375  6.958333  6.50  8.750      5.5   6.25   7.00      7\n",
       "1  6.375  5.916667  4.00  5.500      5.0   3.50   4.25      1\n",
       "2  9.875  8.958333  7.50  8.000      6.5   5.75   7.25      7\n",
       "3  6.750  5.166667  7.25  5.500      7.0   5.25   4.75      4\n",
       "4  7.750  7.541667  6.50  6.875      6.0   5.25   5.75      5"
      ]
     },
     "execution_count": 94,
     "metadata": {},
     "output_type": "execute_result"
    }
   ],
   "source": [
    "# Now construct a new dataframe putting all groups together. Now only 8 features left.\n",
    "newdf = pd.DataFrame(np.zeros((len(df), 8)), columns=['core', 'edu', 'geo', 'emplr',\n",
    "                                                     'dropout', 'inflr', 'selfA', 'selfE'])\n",
    "newdf.core = coreFactors\n",
    "newdf.edu = eduMajor\n",
    "newdf.geo = geo\n",
    "newdf.emplr = employer\n",
    "newdf.dropout = dropout\n",
    "newdf.inflr = influencers\n",
    "newdf.selfA = selfAwareness\n",
    "newdf.selfE = selfEmployed\n",
    "\n",
    "newdf.head()"
   ]
  },
  {
   "cell_type": "code",
   "execution_count": 95,
   "metadata": {},
   "outputs": [
    {
     "data": {
      "text/html": [
       "<div>\n",
       "<style scoped>\n",
       "    .dataframe tbody tr th:only-of-type {\n",
       "        vertical-align: middle;\n",
       "    }\n",
       "\n",
       "    .dataframe tbody tr th {\n",
       "        vertical-align: top;\n",
       "    }\n",
       "\n",
       "    .dataframe thead th {\n",
       "        text-align: right;\n",
       "    }\n",
       "</style>\n",
       "<table border=\"1\" class=\"dataframe\">\n",
       "  <thead>\n",
       "    <tr style=\"text-align: right;\">\n",
       "      <th></th>\n",
       "      <th>core</th>\n",
       "      <th>edu</th>\n",
       "      <th>geo</th>\n",
       "      <th>emplr</th>\n",
       "      <th>dropout</th>\n",
       "      <th>inflr</th>\n",
       "      <th>selfA</th>\n",
       "      <th>selfE</th>\n",
       "    </tr>\n",
       "  </thead>\n",
       "  <tbody>\n",
       "    <tr>\n",
       "      <th>core</th>\n",
       "      <td>1.000000</td>\n",
       "      <td>0.298586</td>\n",
       "      <td>0.339499</td>\n",
       "      <td>0.456139</td>\n",
       "      <td>0.175891</td>\n",
       "      <td>0.104603</td>\n",
       "      <td>0.319220</td>\n",
       "      <td>0.184652</td>\n",
       "    </tr>\n",
       "    <tr>\n",
       "      <th>edu</th>\n",
       "      <td>0.298586</td>\n",
       "      <td>1.000000</td>\n",
       "      <td>0.278516</td>\n",
       "      <td>0.335757</td>\n",
       "      <td>0.027304</td>\n",
       "      <td>0.205852</td>\n",
       "      <td>0.163276</td>\n",
       "      <td>0.058239</td>\n",
       "    </tr>\n",
       "    <tr>\n",
       "      <th>geo</th>\n",
       "      <td>0.339499</td>\n",
       "      <td>0.278516</td>\n",
       "      <td>1.000000</td>\n",
       "      <td>0.407855</td>\n",
       "      <td>0.185988</td>\n",
       "      <td>0.209279</td>\n",
       "      <td>0.255901</td>\n",
       "      <td>0.181201</td>\n",
       "    </tr>\n",
       "    <tr>\n",
       "      <th>emplr</th>\n",
       "      <td>0.456139</td>\n",
       "      <td>0.335757</td>\n",
       "      <td>0.407855</td>\n",
       "      <td>1.000000</td>\n",
       "      <td>0.196019</td>\n",
       "      <td>0.248239</td>\n",
       "      <td>0.397116</td>\n",
       "      <td>0.265791</td>\n",
       "    </tr>\n",
       "    <tr>\n",
       "      <th>dropout</th>\n",
       "      <td>0.175891</td>\n",
       "      <td>0.027304</td>\n",
       "      <td>0.185988</td>\n",
       "      <td>0.196019</td>\n",
       "      <td>1.000000</td>\n",
       "      <td>0.287512</td>\n",
       "      <td>0.139475</td>\n",
       "      <td>0.165430</td>\n",
       "    </tr>\n",
       "    <tr>\n",
       "      <th>inflr</th>\n",
       "      <td>0.104603</td>\n",
       "      <td>0.205852</td>\n",
       "      <td>0.209279</td>\n",
       "      <td>0.248239</td>\n",
       "      <td>0.287512</td>\n",
       "      <td>1.000000</td>\n",
       "      <td>0.185703</td>\n",
       "      <td>0.206853</td>\n",
       "    </tr>\n",
       "    <tr>\n",
       "      <th>selfA</th>\n",
       "      <td>0.319220</td>\n",
       "      <td>0.163276</td>\n",
       "      <td>0.255901</td>\n",
       "      <td>0.397116</td>\n",
       "      <td>0.139475</td>\n",
       "      <td>0.185703</td>\n",
       "      <td>1.000000</td>\n",
       "      <td>0.395848</td>\n",
       "    </tr>\n",
       "    <tr>\n",
       "      <th>selfE</th>\n",
       "      <td>0.184652</td>\n",
       "      <td>0.058239</td>\n",
       "      <td>0.181201</td>\n",
       "      <td>0.265791</td>\n",
       "      <td>0.165430</td>\n",
       "      <td>0.206853</td>\n",
       "      <td>0.395848</td>\n",
       "      <td>1.000000</td>\n",
       "    </tr>\n",
       "  </tbody>\n",
       "</table>\n",
       "</div>"
      ],
      "text/plain": [
       "             core       edu       geo     emplr   dropout     inflr     selfA  \\\n",
       "core     1.000000  0.298586  0.339499  0.456139  0.175891  0.104603  0.319220   \n",
       "edu      0.298586  1.000000  0.278516  0.335757  0.027304  0.205852  0.163276   \n",
       "geo      0.339499  0.278516  1.000000  0.407855  0.185988  0.209279  0.255901   \n",
       "emplr    0.456139  0.335757  0.407855  1.000000  0.196019  0.248239  0.397116   \n",
       "dropout  0.175891  0.027304  0.185988  0.196019  1.000000  0.287512  0.139475   \n",
       "inflr    0.104603  0.205852  0.209279  0.248239  0.287512  1.000000  0.185703   \n",
       "selfA    0.319220  0.163276  0.255901  0.397116  0.139475  0.185703  1.000000   \n",
       "selfE    0.184652  0.058239  0.181201  0.265791  0.165430  0.206853  0.395848   \n",
       "\n",
       "            selfE  \n",
       "core     0.184652  \n",
       "edu      0.058239  \n",
       "geo      0.181201  \n",
       "emplr    0.265791  \n",
       "dropout  0.165430  \n",
       "inflr    0.206853  \n",
       "selfA    0.395848  \n",
       "selfE    1.000000  "
      ]
     },
     "execution_count": 95,
     "metadata": {},
     "output_type": "execute_result"
    }
   ],
   "source": [
    "newdf.corr()"
   ]
  },
  {
   "cell_type": "code",
   "execution_count": 84,
   "metadata": {
    "scrolled": true
   },
   "outputs": [
    {
     "data": {
      "image/png": "[encoded data removed]",
      "text/plain": [
       "<matplotlib.figure.Figure at 0x11e1d1f28>"
      ]
     },
     "metadata": {},
     "output_type": "display_data"
    }
   ],
   "source": [
    "plotElbow(newdf, 200)"
   ]
  },
  {
   "cell_type": "code",
   "execution_count": 96,
   "metadata": {
    "scrolled": true
   },
   "outputs": [
    {
     "data": {
      "text/plain": [
       "core       7.377353\n",
       "edu        6.793201\n",
       "geo        6.383797\n",
       "emplr      6.779255\n",
       "dropout    5.654664\n",
       "inflr      5.476473\n",
       "selfA      6.145254\n",
       "selfE      5.617840\n",
       "dtype: float64"
      ]
     },
     "execution_count": 96,
     "metadata": {},
     "output_type": "execute_result"
    }
   ],
   "source": [
    "# The curve is not as expected, so clustering has to be given up.\n",
    "# Let's just simply see how each group is considered by these students and see if we could reflect the reality.\n",
    "newdf.mean()"
   ]
  },
  {
   "cell_type": "code",
   "execution_count": 97,
   "metadata": {},
   "outputs": [
    {
     "data": {
      "text/plain": [
       "core       5.442533\n",
       "edu        4.614758\n",
       "geo        4.075286\n",
       "emplr      4.595830\n",
       "dropout    3.197523\n",
       "inflr      2.999176\n",
       "selfA      3.776414\n",
       "selfE      3.156012\n",
       "dtype: float64"
      ]
     },
     "execution_count": 97,
     "metadata": {},
     "output_type": "execute_result"
    }
   ],
   "source": [
    "# The means are quite close to each other actually\n",
    "# So square the means and devide them by 10 to scale the differences.\n",
    "newdf.mean()**2/10"
   ]
  },
  {
   "cell_type": "code",
   "execution_count": 98,
   "metadata": {},
   "outputs": [
    {
     "data": {
      "text/html": [
       "<div>\n",
       "<style scoped>\n",
       "    .dataframe tbody tr th:only-of-type {\n",
       "        vertical-align: middle;\n",
       "    }\n",
       "\n",
       "    .dataframe tbody tr th {\n",
       "        vertical-align: top;\n",
       "    }\n",
       "\n",
       "    .dataframe thead th {\n",
       "        text-align: right;\n",
       "    }\n",
       "</style>\n",
       "<table border=\"1\" class=\"dataframe\">\n",
       "  <thead>\n",
       "    <tr style=\"text-align: right;\">\n",
       "      <th></th>\n",
       "      <th>core</th>\n",
       "      <th>edu</th>\n",
       "      <th>geo</th>\n",
       "      <th>emplr</th>\n",
       "      <th>dropout</th>\n",
       "      <th>inflr</th>\n",
       "      <th>selfA</th>\n",
       "      <th>selfE</th>\n",
       "    </tr>\n",
       "  </thead>\n",
       "  <tbody>\n",
       "    <tr>\n",
       "      <th>count</th>\n",
       "      <td>1222.000000</td>\n",
       "      <td>1222.000000</td>\n",
       "      <td>1222.000000</td>\n",
       "      <td>1222.000000</td>\n",
       "      <td>1222.000000</td>\n",
       "      <td>1222.000000</td>\n",
       "      <td>1222.000000</td>\n",
       "      <td>1222.00000</td>\n",
       "    </tr>\n",
       "    <tr>\n",
       "      <th>mean</th>\n",
       "      <td>7.377353</td>\n",
       "      <td>6.793201</td>\n",
       "      <td>6.383797</td>\n",
       "      <td>6.779255</td>\n",
       "      <td>5.654664</td>\n",
       "      <td>5.476473</td>\n",
       "      <td>6.145254</td>\n",
       "      <td>5.61784</td>\n",
       "    </tr>\n",
       "    <tr>\n",
       "      <th>std</th>\n",
       "      <td>1.211353</td>\n",
       "      <td>1.334591</td>\n",
       "      <td>1.306640</td>\n",
       "      <td>1.126580</td>\n",
       "      <td>1.619210</td>\n",
       "      <td>1.503616</td>\n",
       "      <td>1.400894</td>\n",
       "      <td>2.07369</td>\n",
       "    </tr>\n",
       "    <tr>\n",
       "      <th>min</th>\n",
       "      <td>2.250000</td>\n",
       "      <td>1.000000</td>\n",
       "      <td>2.000000</td>\n",
       "      <td>2.000000</td>\n",
       "      <td>1.000000</td>\n",
       "      <td>1.000000</td>\n",
       "      <td>1.750000</td>\n",
       "      <td>1.00000</td>\n",
       "    </tr>\n",
       "    <tr>\n",
       "      <th>25%</th>\n",
       "      <td>6.500000</td>\n",
       "      <td>5.958333</td>\n",
       "      <td>5.500000</td>\n",
       "      <td>6.000000</td>\n",
       "      <td>4.500000</td>\n",
       "      <td>4.750000</td>\n",
       "      <td>5.000000</td>\n",
       "      <td>4.00000</td>\n",
       "    </tr>\n",
       "    <tr>\n",
       "      <th>50%</th>\n",
       "      <td>7.375000</td>\n",
       "      <td>6.791667</td>\n",
       "      <td>6.250000</td>\n",
       "      <td>6.875000</td>\n",
       "      <td>5.500000</td>\n",
       "      <td>5.500000</td>\n",
       "      <td>6.000000</td>\n",
       "      <td>6.00000</td>\n",
       "    </tr>\n",
       "    <tr>\n",
       "      <th>75%</th>\n",
       "      <td>8.250000</td>\n",
       "      <td>7.625000</td>\n",
       "      <td>7.250000</td>\n",
       "      <td>7.500000</td>\n",
       "      <td>6.500000</td>\n",
       "      <td>6.500000</td>\n",
       "      <td>7.000000</td>\n",
       "      <td>7.00000</td>\n",
       "    </tr>\n",
       "    <tr>\n",
       "      <th>max</th>\n",
       "      <td>10.000000</td>\n",
       "      <td>10.000000</td>\n",
       "      <td>10.000000</td>\n",
       "      <td>10.000000</td>\n",
       "      <td>10.000000</td>\n",
       "      <td>10.000000</td>\n",
       "      <td>10.000000</td>\n",
       "      <td>10.00000</td>\n",
       "    </tr>\n",
       "  </tbody>\n",
       "</table>\n",
       "</div>"
      ],
      "text/plain": [
       "              core          edu          geo        emplr      dropout  \\\n",
       "count  1222.000000  1222.000000  1222.000000  1222.000000  1222.000000   \n",
       "mean      7.377353     6.793201     6.383797     6.779255     5.654664   \n",
       "std       1.211353     1.334591     1.306640     1.126580     1.619210   \n",
       "min       2.250000     1.000000     2.000000     2.000000     1.000000   \n",
       "25%       6.500000     5.958333     5.500000     6.000000     4.500000   \n",
       "50%       7.375000     6.791667     6.250000     6.875000     5.500000   \n",
       "75%       8.250000     7.625000     7.250000     7.500000     6.500000   \n",
       "max      10.000000    10.000000    10.000000    10.000000    10.000000   \n",
       "\n",
       "             inflr        selfA       selfE  \n",
       "count  1222.000000  1222.000000  1222.00000  \n",
       "mean      5.476473     6.145254     5.61784  \n",
       "std       1.503616     1.400894     2.07369  \n",
       "min       1.000000     1.750000     1.00000  \n",
       "25%       4.750000     5.000000     4.00000  \n",
       "50%       5.500000     6.000000     6.00000  \n",
       "75%       6.500000     7.000000     7.00000  \n",
       "max      10.000000    10.000000    10.00000  "
      ]
     },
     "execution_count": 98,
     "metadata": {},
     "output_type": "execute_result"
    }
   ],
   "source": [
    "newdf.describe()"
   ]
  },
  {
   "cell_type": "code",
   "execution_count": 99,
   "metadata": {},
   "outputs": [
    {
     "name": "stdout",
     "output_type": "stream",
     "text": [
      "Multiple Comparison of Means - Tukey HSD,FWER=0.05\n",
      "===============================================\n",
      " group1  group2 meandiff  lower   upper  reject\n",
      "-----------------------------------------------\n",
      "  core  dropout -1.7227  -1.9034  -1.542  True \n",
      "  core    edu   -0.5842  -0.7649 -0.4034  True \n",
      "  core   emplr  -0.5981  -0.7788 -0.4174  True \n",
      "  core    geo   -0.9936  -1.1743 -0.8128  True \n",
      "  core   inflr  -1.9009  -2.0816 -1.7202  True \n",
      "  core   selfA  -1.2321  -1.4128 -1.0514  True \n",
      "  core   selfE  -1.7595  -1.9402 -1.5788  True \n",
      "dropout   edu    1.1385   0.9578  1.3193  True \n",
      "dropout  emplr   1.1246   0.9439  1.3053  True \n",
      "dropout   geo    0.7291   0.5484  0.9098  True \n",
      "dropout  inflr  -0.1782  -0.3589  0.0025 False \n",
      "dropout  selfA   0.4906   0.3099  0.6713  True \n",
      "dropout  selfE  -0.0368  -0.2175  0.1439 False \n",
      "  edu    emplr  -0.0139  -0.1947  0.1668 False \n",
      "  edu     geo   -0.4094  -0.5901 -0.2287  True \n",
      "  edu    inflr  -1.3167  -1.4974  -1.136  True \n",
      "  edu    selfA  -0.6479  -0.8287 -0.4672  True \n",
      "  edu    selfE  -1.1754  -1.3561 -0.9946  True \n",
      " emplr    geo   -0.3955  -0.5762 -0.2147  True \n",
      " emplr   inflr  -1.3028  -1.4835 -1.1221  True \n",
      " emplr   selfA   -0.634  -0.8147 -0.4533  True \n",
      " emplr   selfE  -1.1614  -1.3421 -0.9807  True \n",
      "  geo    inflr  -0.9073   -1.088 -0.7266  True \n",
      "  geo    selfA  -0.2385  -0.4193 -0.0578  True \n",
      "  geo    selfE   -0.766  -0.9467 -0.5852  True \n",
      " inflr   selfA   0.6688   0.4881  0.8495  True \n",
      " inflr   selfE   0.1414  -0.0394  0.3221 False \n",
      " selfA   selfE  -0.5274  -0.7081 -0.3467  True \n",
      "-----------------------------------------------\n"
     ]
    }
   ],
   "source": [
    "tudf = np.concatenate([newdf[i].values for i in newdf.columns])\n",
    "labels = np.concatenate([[i] * len(df) for i in newdf.columns])\n",
    "results = pairwise_tukeyhsd(tudf, labels, .05)\n",
    "print(results)"
   ]
  },
  {
   "cell_type": "code",
   "execution_count": 106,
   "metadata": {},
   "outputs": [
    {
     "data": {
      "text/html": [
       "<div>\n",
       "<style scoped>\n",
       "    .dataframe tbody tr th:only-of-type {\n",
       "        vertical-align: middle;\n",
       "    }\n",
       "\n",
       "    .dataframe tbody tr th {\n",
       "        vertical-align: top;\n",
       "    }\n",
       "\n",
       "    .dataframe thead th {\n",
       "        text-align: right;\n",
       "    }\n",
       "</style>\n",
       "<table border=\"1\" class=\"dataframe\">\n",
       "  <thead>\n",
       "    <tr style=\"text-align: right;\">\n",
       "      <th></th>\n",
       "      <th>question1</th>\n",
       "      <th>question2</th>\n",
       "      <th>CorrValue</th>\n",
       "    </tr>\n",
       "  </thead>\n",
       "  <tbody>\n",
       "    <tr>\n",
       "      <th>6</th>\n",
       "      <td>q5</td>\n",
       "      <td>q12</td>\n",
       "      <td>-0.017215</td>\n",
       "    </tr>\n",
       "    <tr>\n",
       "      <th>16</th>\n",
       "      <td>q5</td>\n",
       "      <td>q22</td>\n",
       "      <td>-0.037458</td>\n",
       "    </tr>\n",
       "    <tr>\n",
       "      <th>24</th>\n",
       "      <td>q5</td>\n",
       "      <td>q30</td>\n",
       "      <td>-0.018969</td>\n",
       "    </tr>\n",
       "    <tr>\n",
       "      <th>71</th>\n",
       "      <td>q7</td>\n",
       "      <td>q30</td>\n",
       "      <td>-0.025056</td>\n",
       "    </tr>\n",
       "    <tr>\n",
       "      <th>106</th>\n",
       "      <td>q9</td>\n",
       "      <td>q22</td>\n",
       "      <td>-0.035584</td>\n",
       "    </tr>\n",
       "    <tr>\n",
       "      <th>125</th>\n",
       "      <td>q10</td>\n",
       "      <td>q21</td>\n",
       "      <td>-0.005063</td>\n",
       "    </tr>\n",
       "    <tr>\n",
       "      <th>126</th>\n",
       "      <td>q10</td>\n",
       "      <td>q22</td>\n",
       "      <td>-0.044882</td>\n",
       "    </tr>\n",
       "    <tr>\n",
       "      <th>146</th>\n",
       "      <td>q11</td>\n",
       "      <td>q23</td>\n",
       "      <td>-0.000667</td>\n",
       "    </tr>\n",
       "    <tr>\n",
       "      <th>154</th>\n",
       "      <td>q12</td>\n",
       "      <td>q13</td>\n",
       "      <td>-0.070078</td>\n",
       "    </tr>\n",
       "    <tr>\n",
       "      <th>224</th>\n",
       "      <td>q16</td>\n",
       "      <td>q21</td>\n",
       "      <td>-0.001390</td>\n",
       "    </tr>\n",
       "    <tr>\n",
       "      <th>225</th>\n",
       "      <td>q16</td>\n",
       "      <td>q22</td>\n",
       "      <td>-0.006157</td>\n",
       "    </tr>\n",
       "    <tr>\n",
       "      <th>261</th>\n",
       "      <td>q19</td>\n",
       "      <td>q22</td>\n",
       "      <td>-0.005750</td>\n",
       "    </tr>\n",
       "    <tr>\n",
       "      <th>264</th>\n",
       "      <td>q19</td>\n",
       "      <td>q25</td>\n",
       "      <td>-0.002203</td>\n",
       "    </tr>\n",
       "  </tbody>\n",
       "</table>\n",
       "</div>"
      ],
      "text/plain": [
       "    question1 question2  CorrValue\n",
       "6          q5       q12  -0.017215\n",
       "16         q5       q22  -0.037458\n",
       "24         q5       q30  -0.018969\n",
       "71         q7       q30  -0.025056\n",
       "106        q9       q22  -0.035584\n",
       "125       q10       q21  -0.005063\n",
       "126       q10       q22  -0.044882\n",
       "146       q11       q23  -0.000667\n",
       "154       q12       q13  -0.070078\n",
       "224       q16       q21  -0.001390\n",
       "225       q16       q22  -0.006157\n",
       "261       q19       q22  -0.005750\n",
       "264       q19       q25  -0.002203"
      ]
     },
     "execution_count": 106,
     "metadata": {},
     "output_type": "execute_result"
    }
   ],
   "source": [
    "dfcorr[dfcorr.CorrValue < 0]"
   ]
  },
  {
   "cell_type": "code",
   "execution_count": 110,
   "metadata": {},
   "outputs": [
    {
     "data": {
      "image/png": "[encoded data removed]",
      "text/plain": [
       "<matplotlib.figure.Figure at 0x11770ce10>"
      ]
     },
     "metadata": {},
     "output_type": "display_data"
    }
   ],
   "source": [
    "plt.figure(figsize=(10,8), )\n",
    "dfcorr.CorrValue.hist(color='orange')\n",
    "plt.title('Correlation Histogram', fontsize=24)\n",
    "plt.xlabel('Correlation')\n",
    "plt.ylabel('Count')\n",
    "plt.show()"
   ]
  },
  {
   "cell_type": "code",
   "execution_count": null,
   "metadata": {},
   "outputs": [],
   "source": []
  }
 ],
 "metadata": {
  "kernelspec": {
   "display_name": "Python 3",
   "language": "python",
   "name": "python3"
  },
  "language_info": {
   "codemirror_mode": {
    "name": "ipython",
    "version": 3
   },
   "file_extension": ".py",
   "mimetype": "text/x-python",
   "name": "python",
   "nbconvert_exporter": "python",
   "pygments_lexer": "ipython3",
   "version": "3.6.4"
  }
 },
 "nbformat": 4,
 "nbformat_minor": 2
}
